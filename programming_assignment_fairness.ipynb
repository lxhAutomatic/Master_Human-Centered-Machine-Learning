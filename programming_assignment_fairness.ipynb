{
  "cells": [
    {
      "cell_type": "markdown",
      "metadata": {
        "id": "JVBQ-6Vmxu6j"
      },
      "source": [
        "# Submission instructions \n",
        "\n",
        "All code that you write should be in this notebook.\n",
        "Submit:\n",
        "\n",
        "* This notebook with your code added. Make sure to add enough documentation.\n",
        "* A short report, max 2 pages including any figures and/or tables (it is likely that you won't need the full 2 pages). Use [this template](https://www.overleaf.com/read/mvskntycrckw). \n",
        "\n",
        "For questions, make use of the \"Lab\" session (see schedule).\n",
        "Questions can also be posted to the MS teams channel called \"Lab\". \n"
      ]
    },
    {
      "cell_type": "markdown",
      "metadata": {
        "id": "jQx2YpXIxu6m"
      },
      "source": [
        "# Installing AIF360"
      ]
    },
    {
      "cell_type": "markdown",
      "metadata": {
        "id": "4-pc9YhRxu6n"
      },
      "source": [
        "In this assignment, we're going to use the AIF360 library.\n",
        "For documentation, take a look at:\n",
        "\n",
        "    * https://aif360.mybluemix.net/\n",
        "    * https://aif360.readthedocs.io/en/latest/ (API documentation)\n",
        "    * https://github.com/Trusted-AI/AIF360 Installation instructions\n",
        "\n",
        "We recommend using a dedicated Python environment for this assignment, for example\n",
        "by using Conda (https://docs.conda.io/en/latest/).\n",
        "You could also use Google Colab (https://colab.research.google.com/).\n",
        "\n",
        "When installing AIF360, you only need to install the stable, basic version (e.g., pip install aif360)\n",
        "You don't need to install the additional optional dependencies.\n",
        "\n",
        "The library itself provides some examples in the GitHub repository, see:\n",
        "https://github.com/Trusted-AI/AIF360/tree/master/examples.\n",
        "\n",
        "**Notes**\n",
        "* The lines below starting with ! can be used in Google Colab by commenting them out, or in your console\n",
        "* The first time you're running the import statements, you may get a warning \"No module named tensorflow\".\n",
        "  This can be ignored--we don't need it for this assignment. Just run the code block again, and it should disappear"
      ]
    },
    {
      "cell_type": "code",
      "execution_count": null,
      "metadata": {
        "id": "GYqgmESHxu6n",
        "colab": {
          "base_uri": "https://localhost:8080/"
        },
        "outputId": "f3bb9bf7-d450-4289-8e25-691c1fab6516"
      },
      "outputs": [
        {
          "output_type": "stream",
          "name": "stdout",
          "text": [
            "Looking in indexes: https://pypi.org/simple, https://us-python.pkg.dev/colab-wheels/public/simple/\n",
            "Collecting aif360\n",
            "  Downloading aif360-0.4.0-py3-none-any.whl (175 kB)\n",
            "\u001b[K     |████████████████████████████████| 175 kB 5.0 MB/s \n",
            "\u001b[?25hCollecting tempeh\n",
            "  Downloading tempeh-0.1.12-py3-none-any.whl (39 kB)\n",
            "Requirement already satisfied: numpy>=1.16 in /usr/local/lib/python3.7/dist-packages (from aif360) (1.21.6)\n",
            "Requirement already satisfied: scikit-learn>=0.22.1 in /usr/local/lib/python3.7/dist-packages (from aif360) (1.0.2)\n",
            "Requirement already satisfied: matplotlib in /usr/local/lib/python3.7/dist-packages (from aif360) (3.2.2)\n",
            "Requirement already satisfied: scipy<1.6.0,>=1.2.0 in /usr/local/lib/python3.7/dist-packages (from aif360) (1.4.1)\n",
            "Requirement already satisfied: pandas>=0.24.0 in /usr/local/lib/python3.7/dist-packages (from aif360) (1.3.5)\n",
            "Requirement already satisfied: python-dateutil>=2.7.3 in /usr/local/lib/python3.7/dist-packages (from pandas>=0.24.0->aif360) (2.8.2)\n",
            "Requirement already satisfied: pytz>=2017.3 in /usr/local/lib/python3.7/dist-packages (from pandas>=0.24.0->aif360) (2022.1)\n",
            "Requirement already satisfied: six>=1.5 in /usr/local/lib/python3.7/dist-packages (from python-dateutil>=2.7.3->pandas>=0.24.0->aif360) (1.15.0)\n",
            "Requirement already satisfied: joblib>=0.11 in /usr/local/lib/python3.7/dist-packages (from scikit-learn>=0.22.1->aif360) (1.1.0)\n",
            "Requirement already satisfied: threadpoolctl>=2.0.0 in /usr/local/lib/python3.7/dist-packages (from scikit-learn>=0.22.1->aif360) (3.1.0)\n",
            "Requirement already satisfied: pyparsing!=2.0.4,!=2.1.2,!=2.1.6,>=2.0.1 in /usr/local/lib/python3.7/dist-packages (from matplotlib->aif360) (3.0.9)\n",
            "Requirement already satisfied: cycler>=0.10 in /usr/local/lib/python3.7/dist-packages (from matplotlib->aif360) (0.11.0)\n",
            "Requirement already satisfied: kiwisolver>=1.0.1 in /usr/local/lib/python3.7/dist-packages (from matplotlib->aif360) (1.4.2)\n",
            "Requirement already satisfied: typing-extensions in /usr/local/lib/python3.7/dist-packages (from kiwisolver>=1.0.1->matplotlib->aif360) (4.2.0)\n",
            "Requirement already satisfied: requests in /usr/local/lib/python3.7/dist-packages (from tempeh->aif360) (2.23.0)\n",
            "Collecting memory-profiler\n",
            "  Downloading memory_profiler-0.60.0.tar.gz (38 kB)\n",
            "Collecting shap\n",
            "  Downloading shap-0.40.0-cp37-cp37m-manylinux2010_x86_64.whl (564 kB)\n",
            "\u001b[K     |████████████████████████████████| 564 kB 33.1 MB/s \n",
            "\u001b[?25hRequirement already satisfied: pytest in /usr/local/lib/python3.7/dist-packages (from tempeh->aif360) (3.6.4)\n",
            "Requirement already satisfied: psutil in /usr/local/lib/python3.7/dist-packages (from memory-profiler->tempeh->aif360) (5.4.8)\n",
            "Requirement already satisfied: py>=1.5.0 in /usr/local/lib/python3.7/dist-packages (from pytest->tempeh->aif360) (1.11.0)\n",
            "Requirement already satisfied: setuptools in /usr/local/lib/python3.7/dist-packages (from pytest->tempeh->aif360) (57.4.0)\n",
            "Requirement already satisfied: pluggy<0.8,>=0.5 in /usr/local/lib/python3.7/dist-packages (from pytest->tempeh->aif360) (0.7.1)\n",
            "Requirement already satisfied: attrs>=17.4.0 in /usr/local/lib/python3.7/dist-packages (from pytest->tempeh->aif360) (21.4.0)\n",
            "Requirement already satisfied: more-itertools>=4.0.0 in /usr/local/lib/python3.7/dist-packages (from pytest->tempeh->aif360) (8.13.0)\n",
            "Requirement already satisfied: atomicwrites>=1.0 in /usr/local/lib/python3.7/dist-packages (from pytest->tempeh->aif360) (1.4.0)\n",
            "Requirement already satisfied: chardet<4,>=3.0.2 in /usr/local/lib/python3.7/dist-packages (from requests->tempeh->aif360) (3.0.4)\n",
            "Requirement already satisfied: urllib3!=1.25.0,!=1.25.1,<1.26,>=1.21.1 in /usr/local/lib/python3.7/dist-packages (from requests->tempeh->aif360) (1.24.3)\n",
            "Requirement already satisfied: idna<3,>=2.5 in /usr/local/lib/python3.7/dist-packages (from requests->tempeh->aif360) (2.10)\n",
            "Requirement already satisfied: certifi>=2017.4.17 in /usr/local/lib/python3.7/dist-packages (from requests->tempeh->aif360) (2022.5.18.1)\n",
            "Collecting slicer==0.0.7\n",
            "  Downloading slicer-0.0.7-py3-none-any.whl (14 kB)\n",
            "Requirement already satisfied: numba in /usr/local/lib/python3.7/dist-packages (from shap->tempeh->aif360) (0.51.2)\n",
            "Requirement already satisfied: cloudpickle in /usr/local/lib/python3.7/dist-packages (from shap->tempeh->aif360) (1.3.0)\n",
            "Requirement already satisfied: packaging>20.9 in /usr/local/lib/python3.7/dist-packages (from shap->tempeh->aif360) (21.3)\n",
            "Requirement already satisfied: tqdm>4.25.0 in /usr/local/lib/python3.7/dist-packages (from shap->tempeh->aif360) (4.64.0)\n",
            "Requirement already satisfied: llvmlite<0.35,>=0.34.0.dev0 in /usr/local/lib/python3.7/dist-packages (from numba->shap->tempeh->aif360) (0.34.0)\n",
            "Building wheels for collected packages: memory-profiler\n",
            "  Building wheel for memory-profiler (setup.py) ... \u001b[?25l\u001b[?25hdone\n",
            "  Created wheel for memory-profiler: filename=memory_profiler-0.60.0-py3-none-any.whl size=31284 sha256=71150b224b497a2602f57ede00138da636f9de4b7d9629149acf601bb021d323\n",
            "  Stored in directory: /root/.cache/pip/wheels/67/2b/fb/326e30d638c538e69a5eb0aa47f4223d979f502bbdb403950f\n",
            "Successfully built memory-profiler\n",
            "Installing collected packages: slicer, shap, memory-profiler, tempeh, aif360\n",
            "Successfully installed aif360-0.4.0 memory-profiler-0.60.0 shap-0.40.0 slicer-0.0.7 tempeh-0.1.12\n",
            "Looking in indexes: https://pypi.org/simple, https://us-python.pkg.dev/colab-wheels/public/simple/\n",
            "Collecting fairlearn\n",
            "  Downloading fairlearn-0.7.0-py3-none-any.whl (177 kB)\n",
            "\u001b[K     |████████████████████████████████| 177 kB 5.0 MB/s \n",
            "\u001b[?25hRequirement already satisfied: numpy>=1.17.2 in /usr/local/lib/python3.7/dist-packages (from fairlearn) (1.21.6)\n",
            "Requirement already satisfied: scipy>=1.4.1 in /usr/local/lib/python3.7/dist-packages (from fairlearn) (1.4.1)\n",
            "Requirement already satisfied: pandas>=0.25.1 in /usr/local/lib/python3.7/dist-packages (from fairlearn) (1.3.5)\n",
            "Requirement already satisfied: scikit-learn>=0.22.1 in /usr/local/lib/python3.7/dist-packages (from fairlearn) (1.0.2)\n",
            "Requirement already satisfied: python-dateutil>=2.7.3 in /usr/local/lib/python3.7/dist-packages (from pandas>=0.25.1->fairlearn) (2.8.2)\n",
            "Requirement already satisfied: pytz>=2017.3 in /usr/local/lib/python3.7/dist-packages (from pandas>=0.25.1->fairlearn) (2022.1)\n",
            "Requirement already satisfied: six>=1.5 in /usr/local/lib/python3.7/dist-packages (from python-dateutil>=2.7.3->pandas>=0.25.1->fairlearn) (1.15.0)\n",
            "Requirement already satisfied: threadpoolctl>=2.0.0 in /usr/local/lib/python3.7/dist-packages (from scikit-learn>=0.22.1->fairlearn) (3.1.0)\n",
            "Requirement already satisfied: joblib>=0.11 in /usr/local/lib/python3.7/dist-packages (from scikit-learn>=0.22.1->fairlearn) (1.1.0)\n",
            "Installing collected packages: fairlearn\n",
            "Successfully installed fairlearn-0.7.0\n"
          ]
        }
      ],
      "source": [
        "!pip install aif360\n",
        "!pip install fairlearn"
      ]
    },
    {
      "cell_type": "code",
      "source": [
        "from aif360.algorithms.preprocessing.optim_preproc_helpers.data_preproc_functions import load_preproc_data_compas\n",
        "from aif360.metrics import BinaryLabelDatasetMetric"
      ],
      "metadata": {
        "id": "VJ0k0KryqhWe"
      },
      "execution_count": null,
      "outputs": []
    },
    {
      "cell_type": "markdown",
      "metadata": {
        "id": "XMAamjIhxu6n"
      },
      "source": [
        "# Exploring the data"
      ]
    },
    {
      "cell_type": "markdown",
      "metadata": {
        "id": "WULE5A7jxu6n"
      },
      "source": [
        "**COMPAS dataset**\n",
        "\n",
        "In this assignment we're going to use the COMPAS dataset.\n",
        "\n",
        "If you haven't done so already, take a look at this article: https://www.propublica.org/article/machine-bias-risk-assessments-in-criminal-sentencing.\n",
        "For background on the dataset, see https://www.propublica.org/article/how-we-analyzed-the-compas-recidivism-algorithm.\n",
        "\n",
        "**Reading in the COMPAS dataset**\n",
        "\n",
        "The AIF360 library has already built in code to read in this dataset.\n",
        "However, you'll first need to manually download the COMPAS dataset \n",
        "and put it into a specified directory. \n",
        "See: https://github.com/Trusted-AI/AIF360/blob/master/aif360/data/raw/compas/README.md.\n",
        "If you try to load in the dataset for the first time, the library will give you instructions on the steps to download the data.\n",
        "\n",
        "The protected attributes in this dataset are 'sex' and 'race'. \n",
        "For this assignment, we'll only focus on race.\n",
        "\n",
        "The label codes recidivism, which they defined as a new arrest within 2 years. \n",
        "Note that in this dataset, the label is coded with 1 being the favorable label."
      ]
    },
    {
      "cell_type": "code",
      "execution_count": null,
      "metadata": {
        "id": "ntZORDbtxu6n",
        "colab": {
          "base_uri": "https://localhost:8080/"
        },
        "outputId": "6401ff1b-3185-4397-b79e-8a889d0ff8d8"
      },
      "outputs": [
        {
          "output_type": "stream",
          "name": "stdout",
          "text": [
            "--2022-05-24 12:21:37--  https://raw.githubusercontent.com/propublica/compas-analysis/master/compas-scores-two-years.csv\n",
            "Resolving raw.githubusercontent.com (raw.githubusercontent.com)... 185.199.109.133, 185.199.111.133, 185.199.108.133, ...\n",
            "Connecting to raw.githubusercontent.com (raw.githubusercontent.com)|185.199.109.133|:443... connected.\n",
            "HTTP request sent, awaiting response... 200 OK\n",
            "Length: 2546489 (2.4M) [text/plain]\n",
            "Saving to: ‘compas-scores-two-years.csv’\n",
            "\n",
            "compas-scores-two-y 100%[===================>]   2.43M  --.-KB/s    in 0.06s   \n",
            "\n",
            "2022-05-24 12:21:38 (37.6 MB/s) - ‘compas-scores-two-years.csv’ saved [2546489/2546489]\n",
            "\n"
          ]
        }
      ],
      "source": [
        "!wget -c https://raw.githubusercontent.com/propublica/compas-analysis/master/compas-scores-two-years.csv\n",
        "# !mv compas-scores-two-years.csv PATH_TO_DATA_FILE\n",
        "!mv compas-scores-two-years.csv /usr/local/lib/python3.7/dist-packages/aif360/data/raw/compas\n",
        "# For Google Colab, the DATA_PATH is /usr/local/lib/python3.7/dist-packages/aif360/data/raw/compas\n",
        "\n",
        "compas_data = load_preproc_data_compas(protected_attributes=['race'])"
      ]
    },
    {
      "cell_type": "markdown",
      "metadata": {
        "id": "NzpnkDQKxu6o"
      },
      "source": [
        "Now let's take a look at the data:"
      ]
    },
    {
      "cell_type": "code",
      "execution_count": null,
      "metadata": {
        "id": "eaR5uGDuxu6o",
        "outputId": "b15cfde9-fdba-469f-ef09-0599d03496a4",
        "colab": {
          "base_uri": "https://localhost:8080/"
        }
      },
      "outputs": [
        {
          "output_type": "execute_result",
          "data": {
            "text/plain": [
              "               instance weights features                                       \\\n",
              "                                         protected attribute                    \n",
              "                                     sex                race age_cat=25 to 45   \n",
              "instance names                                                                  \n",
              "3                           1.0      0.0                 0.0              1.0   \n",
              "4                           1.0      0.0                 0.0              0.0   \n",
              "8                           1.0      0.0                 1.0              1.0   \n",
              "10                          1.0      1.0                 1.0              1.0   \n",
              "14                          1.0      0.0                 1.0              1.0   \n",
              "...                         ...      ...                 ...              ...   \n",
              "10994                       1.0      0.0                 0.0              1.0   \n",
              "10995                       1.0      0.0                 0.0              0.0   \n",
              "10996                       1.0      0.0                 0.0              0.0   \n",
              "10997                       1.0      0.0                 0.0              0.0   \n",
              "11000                       1.0      1.0                 0.0              1.0   \n",
              "\n",
              "                                                                            \\\n",
              "                                                                             \n",
              "               age_cat=Greater than 45 age_cat=Less than 25 priors_count=0   \n",
              "instance names                                                               \n",
              "3                                  0.0                  0.0            1.0   \n",
              "4                                  0.0                  1.0            0.0   \n",
              "8                                  0.0                  0.0            0.0   \n",
              "10                                 0.0                  0.0            1.0   \n",
              "14                                 0.0                  0.0            1.0   \n",
              "...                                ...                  ...            ...   \n",
              "10994                              0.0                  0.0            1.0   \n",
              "10995                              0.0                  1.0            1.0   \n",
              "10996                              0.0                  1.0            1.0   \n",
              "10997                              0.0                  1.0            1.0   \n",
              "11000                              0.0                  0.0            0.0   \n",
              "\n",
              "                                                                               \\\n",
              "                                                                                \n",
              "               priors_count=1 to 3 priors_count=More than 3 c_charge_degree=F   \n",
              "instance names                                                                  \n",
              "3                              0.0                      0.0               1.0   \n",
              "4                              0.0                      1.0               1.0   \n",
              "8                              0.0                      1.0               1.0   \n",
              "10                             0.0                      0.0               0.0   \n",
              "14                             0.0                      0.0               1.0   \n",
              "...                            ...                      ...               ...   \n",
              "10994                          0.0                      0.0               0.0   \n",
              "10995                          0.0                      0.0               1.0   \n",
              "10996                          0.0                      0.0               1.0   \n",
              "10997                          0.0                      0.0               1.0   \n",
              "11000                          1.0                      0.0               0.0   \n",
              "\n",
              "                                 labels  \n",
              "                                         \n",
              "               c_charge_degree=M         \n",
              "instance names                           \n",
              "3                            0.0    1.0  \n",
              "4                            0.0    1.0  \n",
              "8                            0.0    1.0  \n",
              "10                           1.0    0.0  \n",
              "14                           0.0    0.0  \n",
              "...                          ...    ...  \n",
              "10994                        1.0    1.0  \n",
              "10995                        0.0    0.0  \n",
              "10996                        0.0    0.0  \n",
              "10997                        0.0    0.0  \n",
              "11000                        1.0    0.0  \n",
              "\n",
              "[5278 rows x 12 columns]"
            ]
          },
          "metadata": {},
          "execution_count": 4
        }
      ],
      "source": [
        "compas_data"
      ]
    },
    {
      "cell_type": "markdown",
      "metadata": {
        "id": "O2_Rgb9Dxu6o"
      },
      "source": [
        "**Creating a train and test split**\n",
        "\n",
        "We'll create a train (80%) and test split (20%). \n",
        "\n",
        "Note: *Usually when carrying out machine learning experiments,\n",
        "we also need a dev set for developing and selecting our models (incl. tuning of hyper-parameters).\n",
        "However, in this assignment, the goal is not to optimize \n",
        "the performance of models so we'll only use a train and test split.*\n",
        "\n",
        "Note: *due to random division of train/test sets, the actual output in your runs may slightly differ with statistics showing in the rest of this notebook.*"
      ]
    },
    {
      "cell_type": "code",
      "execution_count": null,
      "metadata": {
        "id": "tEiYeOYbxu6o"
      },
      "outputs": [],
      "source": [
        "train_data, test_data = compas_data.split([0.8], shuffle=True)"
      ]
    },
    {
      "cell_type": "markdown",
      "metadata": {
        "id": "q5PWzGA1A54Q"
      },
      "source": [
        "We would also like to know what outcome is favorable in our dataset (because no Recidivism is preferable, it is ```two_year_recid=0``` in our case)."
      ]
    },
    {
      "cell_type": "code",
      "execution_count": null,
      "metadata": {
        "colab": {
          "base_uri": "https://localhost:8080/"
        },
        "id": "0v5SpK3fA54Q",
        "outputId": "69709ec1-523f-4949-955b-a174e9835cb6"
      },
      "outputs": [
        {
          "output_type": "stream",
          "name": "stdout",
          "text": [
            "0\n"
          ]
        }
      ],
      "source": [
        "fav_idx = int(train_data.favorable_label)\n",
        "print(fav_idx)"
      ]
    },
    {
      "cell_type": "markdown",
      "metadata": {
        "id": "pPtJzDqCxu6o"
      },
      "source": [
        "In this assignment, we'll focus on protected attribute: race.\n",
        "This is coded as a binary variable with \"Caucasian\" coded as 1 and \"African-American\" coded as 0."
      ]
    },
    {
      "cell_type": "code",
      "execution_count": null,
      "metadata": {
        "id": "SjT3Zw2hxu6p"
      },
      "outputs": [],
      "source": [
        "priv_group   = [{'race': 1}]  # Caucasian\n",
        "unpriv_group = [{'race': 0}]  # African-American"
      ]
    },
    {
      "cell_type": "markdown",
      "metadata": {
        "id": "Jr90y1LDxu6p"
      },
      "source": [
        "Now let's look at some statistics:"
      ]
    },
    {
      "cell_type": "code",
      "execution_count": null,
      "metadata": {
        "colab": {
          "base_uri": "https://localhost:8080/"
        },
        "id": "iv6GMiiCxu6p",
        "outputId": "1fa9ac07-3fb0-41d6-83f6-2dfa28e9f646"
      },
      "outputs": [
        {
          "output_type": "stream",
          "name": "stdout",
          "text": [
            "Training set shape: 4222, 10\n",
            "Favorable (not recid) and unfavorable (recid) labels: 0.0; 1.0\n",
            "Protected attribute names: ['race']\n",
            "Privileged (Caucasian) and unprivileged (African-American) protected attribute values: [array([1.])], [array([0.])]\n",
            "Feature names: ['sex', 'race', 'age_cat=25 to 45', 'age_cat=Greater than 45', 'age_cat=Less than 25', 'priors_count=0', 'priors_count=1 to 3', 'priors_count=More than 3', 'c_charge_degree=F', 'c_charge_degree=M']\n"
          ]
        }
      ],
      "source": [
        "print(\"Training set shape: %s, %s\" % train_data.features.shape)\n",
        "print(\"Favorable (not recid) and unfavorable (recid) labels: %s; %s\" % (train_data.favorable_label, train_data.unfavorable_label))\n",
        "print(\"Protected attribute names: %s\" % train_data.protected_attribute_names)\n",
        "# labels of privileged (1) and unprovileged groups (0)\n",
        "print(\"Privileged (Caucasian) and unprivileged (African-American) protected attribute values: %s, %s\" % (train_data.privileged_protected_attributes, \n",
        "      train_data.unprivileged_protected_attributes))\n",
        "print(\"Feature names: %s\" % train_data.feature_names)"
      ]
    },
    {
      "cell_type": "code",
      "source": [
        "print(\"Test set shape: %s, %s\" % test_data.features.shape)"
      ],
      "metadata": {
        "colab": {
          "base_uri": "https://localhost:8080/"
        },
        "id": "9NkPcBplvVQD",
        "outputId": "44e62a47-40b4-4ca5-9dbb-220e653e265a"
      },
      "execution_count": null,
      "outputs": [
        {
          "output_type": "stream",
          "name": "stdout",
          "text": [
            "Test set shape: 1056, 10\n"
          ]
        }
      ]
    },
    {
      "cell_type": "markdown",
      "metadata": {
        "id": "4jQ3JiHIxu6p"
      },
      "source": [
        "Now, let's take a look at the test data and compute the following difference:\n",
        "\n",
        "$$𝑃(𝑌=favorable|𝐷=unprivileged)−𝑃(𝑌=favorable|𝐷=privileged)$$\n"
      ]
    },
    {
      "cell_type": "code",
      "execution_count": null,
      "metadata": {
        "colab": {
          "base_uri": "https://localhost:8080/"
        },
        "id": "zm5QQc1Sxu6p",
        "outputId": "3abf7300-779a-4b95-9c0d-1be2402248b4"
      },
      "outputs": [
        {
          "output_type": "stream",
          "name": "stdout",
          "text": [
            "Mean difference (statistical parity difference) = -0.099688\n"
          ]
        }
      ],
      "source": [
        "metric_test_data = BinaryLabelDatasetMetric(test_data, \n",
        "                             unprivileged_groups = unpriv_group,\n",
        "                             privileged_groups   = priv_group)\n",
        "print(\"Mean difference (statistical parity difference) = %f\" % \n",
        "      metric_test_data.statistical_parity_difference())\n"
      ]
    },
    {
      "cell_type": "code",
      "source": [
        "metric_train_data = BinaryLabelDatasetMetric(train_data, \n",
        "                             unprivileged_groups = unpriv_group,\n",
        "                             privileged_groups   = priv_group)\n",
        "print(\"Mean difference (statistical parity difference) = %f\" % \n",
        "      metric_train_data.statistical_parity_difference())"
      ],
      "metadata": {
        "colab": {
          "base_uri": "https://localhost:8080/"
        },
        "id": "4G9k8mkpjyLZ",
        "outputId": "70978dc0-1512-4233-8473-dfff8bccdf0b"
      },
      "execution_count": null,
      "outputs": [
        {
          "output_type": "stream",
          "name": "stdout",
          "text": [
            "Mean difference (statistical parity difference) = -0.140265\n"
          ]
        }
      ]
    },
    {
      "cell_type": "markdown",
      "metadata": {
        "id": "BhnAjpxdxu6p"
      },
      "source": [
        "To be clear, because we're looking at the original label distribution this is the base rate difference between the two groups"
      ]
    },
    {
      "cell_type": "code",
      "execution_count": null,
      "metadata": {
        "colab": {
          "base_uri": "https://localhost:8080/"
        },
        "id": "sg3bfAz-xu6p",
        "outputId": "73e333f9-efad-46fa-9aa3-ed0b6cc530a1"
      },
      "outputs": [
        {
          "output_type": "execute_result",
          "data": {
            "text/plain": [
              "0.47900466562986005"
            ]
          },
          "metadata": {},
          "execution_count": 21
        }
      ],
      "source": [
        "metric_test_data.base_rate(False)  # Base rate of the unprivileged group"
      ]
    },
    {
      "cell_type": "code",
      "execution_count": null,
      "metadata": {
        "colab": {
          "base_uri": "https://localhost:8080/"
        },
        "id": "UTZ2MYSbxu6p",
        "outputId": "4c082a4b-9e6b-4d2c-ca95-97f50d60f833"
      },
      "outputs": [
        {
          "output_type": "execute_result",
          "data": {
            "text/plain": [
              "0.5786924939467313"
            ]
          },
          "metadata": {},
          "execution_count": 22
        }
      ],
      "source": [
        "metric_test_data.base_rate(True)   # Base rate of the privileged group"
      ]
    },
    {
      "cell_type": "code",
      "source": [
        "metric_train_data.base_rate(False)  # Base rate of the unprivileged group"
      ],
      "metadata": {
        "colab": {
          "base_uri": "https://localhost:8080/"
        },
        "id": "BvikUw9plabX",
        "outputId": "bfbdc581-72b2-4a97-b96e-ff2149e36291"
      },
      "execution_count": null,
      "outputs": [
        {
          "output_type": "execute_result",
          "data": {
            "text/plain": [
              "0.476303317535545"
            ]
          },
          "metadata": {},
          "execution_count": 23
        }
      ]
    },
    {
      "cell_type": "code",
      "source": [
        "metric_train_data.base_rate(True)   # Base rate of the privileged group"
      ],
      "metadata": {
        "colab": {
          "base_uri": "https://localhost:8080/"
        },
        "id": "POKEbQGhldTJ",
        "outputId": "608050ef-dc7c-490a-9445-2945c4691d13"
      },
      "execution_count": null,
      "outputs": [
        {
          "output_type": "execute_result",
          "data": {
            "text/plain": [
              "0.6165680473372781"
            ]
          },
          "metadata": {},
          "execution_count": 24
        }
      ]
    },
    {
      "cell_type": "markdown",
      "metadata": {
        "id": "0S8-RwIH9Qu3"
      },
      "source": [
        "To explore the data, it can also help to convert it to a dataframe.\n",
        "Note that here the favorable label is no recidivism (two_year_recid=0), \n",
        "while the mean values are calculated according to two_year_recid=1.\n",
        "Therefore, we get the results as (1 - base rate)."
      ]
    },
    {
      "cell_type": "code",
      "execution_count": null,
      "metadata": {
        "id": "3MCGC1F99Qu3",
        "outputId": "01175321-4d73-4420-d6a4-2a4fb04132e3",
        "colab": {
          "base_uri": "https://localhost:8080/",
          "height": 143
        }
      },
      "outputs": [
        {
          "output_type": "execute_result",
          "data": {
            "text/plain": [
              "      count      mean       std  min  25%  50%  75%  max\n",
              "race                                                    \n",
              "0.0   643.0  0.520995  0.499948  0.0  0.0  1.0  1.0  1.0\n",
              "1.0   413.0  0.421308  0.494368  0.0  0.0  0.0  1.0  1.0"
            ],
            "text/html": [
              "\n",
              "  <div id=\"df-35ca1d55-7900-4049-9a41-046c9bcc12af\">\n",
              "    <div class=\"colab-df-container\">\n",
              "      <div>\n",
              "<style scoped>\n",
              "    .dataframe tbody tr th:only-of-type {\n",
              "        vertical-align: middle;\n",
              "    }\n",
              "\n",
              "    .dataframe tbody tr th {\n",
              "        vertical-align: top;\n",
              "    }\n",
              "\n",
              "    .dataframe thead th {\n",
              "        text-align: right;\n",
              "    }\n",
              "</style>\n",
              "<table border=\"1\" class=\"dataframe\">\n",
              "  <thead>\n",
              "    <tr style=\"text-align: right;\">\n",
              "      <th></th>\n",
              "      <th>count</th>\n",
              "      <th>mean</th>\n",
              "      <th>std</th>\n",
              "      <th>min</th>\n",
              "      <th>25%</th>\n",
              "      <th>50%</th>\n",
              "      <th>75%</th>\n",
              "      <th>max</th>\n",
              "    </tr>\n",
              "    <tr>\n",
              "      <th>race</th>\n",
              "      <th></th>\n",
              "      <th></th>\n",
              "      <th></th>\n",
              "      <th></th>\n",
              "      <th></th>\n",
              "      <th></th>\n",
              "      <th></th>\n",
              "      <th></th>\n",
              "    </tr>\n",
              "  </thead>\n",
              "  <tbody>\n",
              "    <tr>\n",
              "      <th>0.0</th>\n",
              "      <td>643.0</td>\n",
              "      <td>0.520995</td>\n",
              "      <td>0.499948</td>\n",
              "      <td>0.0</td>\n",
              "      <td>0.0</td>\n",
              "      <td>1.0</td>\n",
              "      <td>1.0</td>\n",
              "      <td>1.0</td>\n",
              "    </tr>\n",
              "    <tr>\n",
              "      <th>1.0</th>\n",
              "      <td>413.0</td>\n",
              "      <td>0.421308</td>\n",
              "      <td>0.494368</td>\n",
              "      <td>0.0</td>\n",
              "      <td>0.0</td>\n",
              "      <td>0.0</td>\n",
              "      <td>1.0</td>\n",
              "      <td>1.0</td>\n",
              "    </tr>\n",
              "  </tbody>\n",
              "</table>\n",
              "</div>\n",
              "      <button class=\"colab-df-convert\" onclick=\"convertToInteractive('df-35ca1d55-7900-4049-9a41-046c9bcc12af')\"\n",
              "              title=\"Convert this dataframe to an interactive table.\"\n",
              "              style=\"display:none;\">\n",
              "        \n",
              "  <svg xmlns=\"http://www.w3.org/2000/svg\" height=\"24px\"viewBox=\"0 0 24 24\"\n",
              "       width=\"24px\">\n",
              "    <path d=\"M0 0h24v24H0V0z\" fill=\"none\"/>\n",
              "    <path d=\"M18.56 5.44l.94 2.06.94-2.06 2.06-.94-2.06-.94-.94-2.06-.94 2.06-2.06.94zm-11 1L8.5 8.5l.94-2.06 2.06-.94-2.06-.94L8.5 2.5l-.94 2.06-2.06.94zm10 10l.94 2.06.94-2.06 2.06-.94-2.06-.94-.94-2.06-.94 2.06-2.06.94z\"/><path d=\"M17.41 7.96l-1.37-1.37c-.4-.4-.92-.59-1.43-.59-.52 0-1.04.2-1.43.59L10.3 9.45l-7.72 7.72c-.78.78-.78 2.05 0 2.83L4 21.41c.39.39.9.59 1.41.59.51 0 1.02-.2 1.41-.59l7.78-7.78 2.81-2.81c.8-.78.8-2.07 0-2.86zM5.41 20L4 18.59l7.72-7.72 1.47 1.35L5.41 20z\"/>\n",
              "  </svg>\n",
              "      </button>\n",
              "      \n",
              "  <style>\n",
              "    .colab-df-container {\n",
              "      display:flex;\n",
              "      flex-wrap:wrap;\n",
              "      gap: 12px;\n",
              "    }\n",
              "\n",
              "    .colab-df-convert {\n",
              "      background-color: #E8F0FE;\n",
              "      border: none;\n",
              "      border-radius: 50%;\n",
              "      cursor: pointer;\n",
              "      display: none;\n",
              "      fill: #1967D2;\n",
              "      height: 32px;\n",
              "      padding: 0 0 0 0;\n",
              "      width: 32px;\n",
              "    }\n",
              "\n",
              "    .colab-df-convert:hover {\n",
              "      background-color: #E2EBFA;\n",
              "      box-shadow: 0px 1px 2px rgba(60, 64, 67, 0.3), 0px 1px 3px 1px rgba(60, 64, 67, 0.15);\n",
              "      fill: #174EA6;\n",
              "    }\n",
              "\n",
              "    [theme=dark] .colab-df-convert {\n",
              "      background-color: #3B4455;\n",
              "      fill: #D2E3FC;\n",
              "    }\n",
              "\n",
              "    [theme=dark] .colab-df-convert:hover {\n",
              "      background-color: #434B5C;\n",
              "      box-shadow: 0px 1px 3px 1px rgba(0, 0, 0, 0.15);\n",
              "      filter: drop-shadow(0px 1px 2px rgba(0, 0, 0, 0.3));\n",
              "      fill: #FFFFFF;\n",
              "    }\n",
              "  </style>\n",
              "\n",
              "      <script>\n",
              "        const buttonEl =\n",
              "          document.querySelector('#df-35ca1d55-7900-4049-9a41-046c9bcc12af button.colab-df-convert');\n",
              "        buttonEl.style.display =\n",
              "          google.colab.kernel.accessAllowed ? 'block' : 'none';\n",
              "\n",
              "        async function convertToInteractive(key) {\n",
              "          const element = document.querySelector('#df-35ca1d55-7900-4049-9a41-046c9bcc12af');\n",
              "          const dataTable =\n",
              "            await google.colab.kernel.invokeFunction('convertToInteractive',\n",
              "                                                     [key], {});\n",
              "          if (!dataTable) return;\n",
              "\n",
              "          const docLinkHtml = 'Like what you see? Visit the ' +\n",
              "            '<a target=\"_blank\" href=https://colab.research.google.com/notebooks/data_table.ipynb>data table notebook</a>'\n",
              "            + ' to learn more about interactive tables.';\n",
              "          element.innerHTML = '';\n",
              "          dataTable['output_type'] = 'display_data';\n",
              "          await google.colab.output.renderOutput(dataTable, element);\n",
              "          const docLink = document.createElement('div');\n",
              "          docLink.innerHTML = docLinkHtml;\n",
              "          element.appendChild(docLink);\n",
              "        }\n",
              "      </script>\n",
              "    </div>\n",
              "  </div>\n",
              "  "
            ]
          },
          "metadata": {},
          "execution_count": 14
        }
      ],
      "source": [
        "test_data.convert_to_dataframe()[0].groupby(['race'])['two_year_recid'].describe()"
      ]
    },
    {
      "cell_type": "markdown",
      "metadata": {
        "id": "Fix4oidIA54S"
      },
      "source": [
        "**Report**\n",
        "\n",
        "Report basic statistics in your report, such as the size of the training and test set.\n",
        "\n",
        "Now let's explore the *training* data further.\n",
        "In your report include a short analysis of the training data. Look at the base rates of the outcome variable (two year recidivism) for the combination of both race and sex categories. What do you see?"
      ]
    },
    {
      "cell_type": "code",
      "source": [
        "train_data.convert_to_dataframe()[0].groupby(['race'])['two_year_recid'].describe()"
      ],
      "metadata": {
        "colab": {
          "base_uri": "https://localhost:8080/",
          "height": 143
        },
        "id": "pKyCzxXXE4BA",
        "outputId": "2514cc29-09c1-4cae-893e-e7c871a5a2ca"
      },
      "execution_count": null,
      "outputs": [
        {
          "output_type": "execute_result",
          "data": {
            "text/plain": [
              "       count      mean       std  min  25%  50%  75%  max\n",
              "race                                                     \n",
              "0.0   2532.0  0.523697  0.499537  0.0  0.0  1.0  1.0  1.0\n",
              "1.0   1690.0  0.383432  0.486366  0.0  0.0  0.0  1.0  1.0"
            ],
            "text/html": [
              "\n",
              "  <div id=\"df-b272d789-31e6-4d4d-990a-a34f4d4905c2\">\n",
              "    <div class=\"colab-df-container\">\n",
              "      <div>\n",
              "<style scoped>\n",
              "    .dataframe tbody tr th:only-of-type {\n",
              "        vertical-align: middle;\n",
              "    }\n",
              "\n",
              "    .dataframe tbody tr th {\n",
              "        vertical-align: top;\n",
              "    }\n",
              "\n",
              "    .dataframe thead th {\n",
              "        text-align: right;\n",
              "    }\n",
              "</style>\n",
              "<table border=\"1\" class=\"dataframe\">\n",
              "  <thead>\n",
              "    <tr style=\"text-align: right;\">\n",
              "      <th></th>\n",
              "      <th>count</th>\n",
              "      <th>mean</th>\n",
              "      <th>std</th>\n",
              "      <th>min</th>\n",
              "      <th>25%</th>\n",
              "      <th>50%</th>\n",
              "      <th>75%</th>\n",
              "      <th>max</th>\n",
              "    </tr>\n",
              "    <tr>\n",
              "      <th>race</th>\n",
              "      <th></th>\n",
              "      <th></th>\n",
              "      <th></th>\n",
              "      <th></th>\n",
              "      <th></th>\n",
              "      <th></th>\n",
              "      <th></th>\n",
              "      <th></th>\n",
              "    </tr>\n",
              "  </thead>\n",
              "  <tbody>\n",
              "    <tr>\n",
              "      <th>0.0</th>\n",
              "      <td>2532.0</td>\n",
              "      <td>0.523697</td>\n",
              "      <td>0.499537</td>\n",
              "      <td>0.0</td>\n",
              "      <td>0.0</td>\n",
              "      <td>1.0</td>\n",
              "      <td>1.0</td>\n",
              "      <td>1.0</td>\n",
              "    </tr>\n",
              "    <tr>\n",
              "      <th>1.0</th>\n",
              "      <td>1690.0</td>\n",
              "      <td>0.383432</td>\n",
              "      <td>0.486366</td>\n",
              "      <td>0.0</td>\n",
              "      <td>0.0</td>\n",
              "      <td>0.0</td>\n",
              "      <td>1.0</td>\n",
              "      <td>1.0</td>\n",
              "    </tr>\n",
              "  </tbody>\n",
              "</table>\n",
              "</div>\n",
              "      <button class=\"colab-df-convert\" onclick=\"convertToInteractive('df-b272d789-31e6-4d4d-990a-a34f4d4905c2')\"\n",
              "              title=\"Convert this dataframe to an interactive table.\"\n",
              "              style=\"display:none;\">\n",
              "        \n",
              "  <svg xmlns=\"http://www.w3.org/2000/svg\" height=\"24px\"viewBox=\"0 0 24 24\"\n",
              "       width=\"24px\">\n",
              "    <path d=\"M0 0h24v24H0V0z\" fill=\"none\"/>\n",
              "    <path d=\"M18.56 5.44l.94 2.06.94-2.06 2.06-.94-2.06-.94-.94-2.06-.94 2.06-2.06.94zm-11 1L8.5 8.5l.94-2.06 2.06-.94-2.06-.94L8.5 2.5l-.94 2.06-2.06.94zm10 10l.94 2.06.94-2.06 2.06-.94-2.06-.94-.94-2.06-.94 2.06-2.06.94z\"/><path d=\"M17.41 7.96l-1.37-1.37c-.4-.4-.92-.59-1.43-.59-.52 0-1.04.2-1.43.59L10.3 9.45l-7.72 7.72c-.78.78-.78 2.05 0 2.83L4 21.41c.39.39.9.59 1.41.59.51 0 1.02-.2 1.41-.59l7.78-7.78 2.81-2.81c.8-.78.8-2.07 0-2.86zM5.41 20L4 18.59l7.72-7.72 1.47 1.35L5.41 20z\"/>\n",
              "  </svg>\n",
              "      </button>\n",
              "      \n",
              "  <style>\n",
              "    .colab-df-container {\n",
              "      display:flex;\n",
              "      flex-wrap:wrap;\n",
              "      gap: 12px;\n",
              "    }\n",
              "\n",
              "    .colab-df-convert {\n",
              "      background-color: #E8F0FE;\n",
              "      border: none;\n",
              "      border-radius: 50%;\n",
              "      cursor: pointer;\n",
              "      display: none;\n",
              "      fill: #1967D2;\n",
              "      height: 32px;\n",
              "      padding: 0 0 0 0;\n",
              "      width: 32px;\n",
              "    }\n",
              "\n",
              "    .colab-df-convert:hover {\n",
              "      background-color: #E2EBFA;\n",
              "      box-shadow: 0px 1px 2px rgba(60, 64, 67, 0.3), 0px 1px 3px 1px rgba(60, 64, 67, 0.15);\n",
              "      fill: #174EA6;\n",
              "    }\n",
              "\n",
              "    [theme=dark] .colab-df-convert {\n",
              "      background-color: #3B4455;\n",
              "      fill: #D2E3FC;\n",
              "    }\n",
              "\n",
              "    [theme=dark] .colab-df-convert:hover {\n",
              "      background-color: #434B5C;\n",
              "      box-shadow: 0px 1px 3px 1px rgba(0, 0, 0, 0.15);\n",
              "      filter: drop-shadow(0px 1px 2px rgba(0, 0, 0, 0.3));\n",
              "      fill: #FFFFFF;\n",
              "    }\n",
              "  </style>\n",
              "\n",
              "      <script>\n",
              "        const buttonEl =\n",
              "          document.querySelector('#df-b272d789-31e6-4d4d-990a-a34f4d4905c2 button.colab-df-convert');\n",
              "        buttonEl.style.display =\n",
              "          google.colab.kernel.accessAllowed ? 'block' : 'none';\n",
              "\n",
              "        async function convertToInteractive(key) {\n",
              "          const element = document.querySelector('#df-b272d789-31e6-4d4d-990a-a34f4d4905c2');\n",
              "          const dataTable =\n",
              "            await google.colab.kernel.invokeFunction('convertToInteractive',\n",
              "                                                     [key], {});\n",
              "          if (!dataTable) return;\n",
              "\n",
              "          const docLinkHtml = 'Like what you see? Visit the ' +\n",
              "            '<a target=\"_blank\" href=https://colab.research.google.com/notebooks/data_table.ipynb>data table notebook</a>'\n",
              "            + ' to learn more about interactive tables.';\n",
              "          element.innerHTML = '';\n",
              "          dataTable['output_type'] = 'display_data';\n",
              "          await google.colab.output.renderOutput(dataTable, element);\n",
              "          const docLink = document.createElement('div');\n",
              "          docLink.innerHTML = docLinkHtml;\n",
              "          element.appendChild(docLink);\n",
              "        }\n",
              "      </script>\n",
              "    </div>\n",
              "  </div>\n",
              "  "
            ]
          },
          "metadata": {},
          "execution_count": 15
        }
      ]
    },
    {
      "cell_type": "code",
      "source": [
        "train_data.convert_to_dataframe()[0].groupby(['sex'])['two_year_recid'].describe()"
      ],
      "metadata": {
        "colab": {
          "base_uri": "https://localhost:8080/",
          "height": 143
        },
        "id": "6GOzqKuLE7rO",
        "outputId": "c8f203d0-c7c6-4983-e0d5-c933772e61d1"
      },
      "execution_count": null,
      "outputs": [
        {
          "output_type": "execute_result",
          "data": {
            "text/plain": [
              "      count      mean       std  min  25%  50%  75%  max\n",
              "sex                                                     \n",
              "0.0  3404.0  0.492656  0.500020  0.0  0.0  0.0  1.0  1.0\n",
              "1.0   818.0  0.363081  0.481182  0.0  0.0  0.0  1.0  1.0"
            ],
            "text/html": [
              "\n",
              "  <div id=\"df-09734255-9871-420e-bdab-029167180ab6\">\n",
              "    <div class=\"colab-df-container\">\n",
              "      <div>\n",
              "<style scoped>\n",
              "    .dataframe tbody tr th:only-of-type {\n",
              "        vertical-align: middle;\n",
              "    }\n",
              "\n",
              "    .dataframe tbody tr th {\n",
              "        vertical-align: top;\n",
              "    }\n",
              "\n",
              "    .dataframe thead th {\n",
              "        text-align: right;\n",
              "    }\n",
              "</style>\n",
              "<table border=\"1\" class=\"dataframe\">\n",
              "  <thead>\n",
              "    <tr style=\"text-align: right;\">\n",
              "      <th></th>\n",
              "      <th>count</th>\n",
              "      <th>mean</th>\n",
              "      <th>std</th>\n",
              "      <th>min</th>\n",
              "      <th>25%</th>\n",
              "      <th>50%</th>\n",
              "      <th>75%</th>\n",
              "      <th>max</th>\n",
              "    </tr>\n",
              "    <tr>\n",
              "      <th>sex</th>\n",
              "      <th></th>\n",
              "      <th></th>\n",
              "      <th></th>\n",
              "      <th></th>\n",
              "      <th></th>\n",
              "      <th></th>\n",
              "      <th></th>\n",
              "      <th></th>\n",
              "    </tr>\n",
              "  </thead>\n",
              "  <tbody>\n",
              "    <tr>\n",
              "      <th>0.0</th>\n",
              "      <td>3404.0</td>\n",
              "      <td>0.492656</td>\n",
              "      <td>0.500020</td>\n",
              "      <td>0.0</td>\n",
              "      <td>0.0</td>\n",
              "      <td>0.0</td>\n",
              "      <td>1.0</td>\n",
              "      <td>1.0</td>\n",
              "    </tr>\n",
              "    <tr>\n",
              "      <th>1.0</th>\n",
              "      <td>818.0</td>\n",
              "      <td>0.363081</td>\n",
              "      <td>0.481182</td>\n",
              "      <td>0.0</td>\n",
              "      <td>0.0</td>\n",
              "      <td>0.0</td>\n",
              "      <td>1.0</td>\n",
              "      <td>1.0</td>\n",
              "    </tr>\n",
              "  </tbody>\n",
              "</table>\n",
              "</div>\n",
              "      <button class=\"colab-df-convert\" onclick=\"convertToInteractive('df-09734255-9871-420e-bdab-029167180ab6')\"\n",
              "              title=\"Convert this dataframe to an interactive table.\"\n",
              "              style=\"display:none;\">\n",
              "        \n",
              "  <svg xmlns=\"http://www.w3.org/2000/svg\" height=\"24px\"viewBox=\"0 0 24 24\"\n",
              "       width=\"24px\">\n",
              "    <path d=\"M0 0h24v24H0V0z\" fill=\"none\"/>\n",
              "    <path d=\"M18.56 5.44l.94 2.06.94-2.06 2.06-.94-2.06-.94-.94-2.06-.94 2.06-2.06.94zm-11 1L8.5 8.5l.94-2.06 2.06-.94-2.06-.94L8.5 2.5l-.94 2.06-2.06.94zm10 10l.94 2.06.94-2.06 2.06-.94-2.06-.94-.94-2.06-.94 2.06-2.06.94z\"/><path d=\"M17.41 7.96l-1.37-1.37c-.4-.4-.92-.59-1.43-.59-.52 0-1.04.2-1.43.59L10.3 9.45l-7.72 7.72c-.78.78-.78 2.05 0 2.83L4 21.41c.39.39.9.59 1.41.59.51 0 1.02-.2 1.41-.59l7.78-7.78 2.81-2.81c.8-.78.8-2.07 0-2.86zM5.41 20L4 18.59l7.72-7.72 1.47 1.35L5.41 20z\"/>\n",
              "  </svg>\n",
              "      </button>\n",
              "      \n",
              "  <style>\n",
              "    .colab-df-container {\n",
              "      display:flex;\n",
              "      flex-wrap:wrap;\n",
              "      gap: 12px;\n",
              "    }\n",
              "\n",
              "    .colab-df-convert {\n",
              "      background-color: #E8F0FE;\n",
              "      border: none;\n",
              "      border-radius: 50%;\n",
              "      cursor: pointer;\n",
              "      display: none;\n",
              "      fill: #1967D2;\n",
              "      height: 32px;\n",
              "      padding: 0 0 0 0;\n",
              "      width: 32px;\n",
              "    }\n",
              "\n",
              "    .colab-df-convert:hover {\n",
              "      background-color: #E2EBFA;\n",
              "      box-shadow: 0px 1px 2px rgba(60, 64, 67, 0.3), 0px 1px 3px 1px rgba(60, 64, 67, 0.15);\n",
              "      fill: #174EA6;\n",
              "    }\n",
              "\n",
              "    [theme=dark] .colab-df-convert {\n",
              "      background-color: #3B4455;\n",
              "      fill: #D2E3FC;\n",
              "    }\n",
              "\n",
              "    [theme=dark] .colab-df-convert:hover {\n",
              "      background-color: #434B5C;\n",
              "      box-shadow: 0px 1px 3px 1px rgba(0, 0, 0, 0.15);\n",
              "      filter: drop-shadow(0px 1px 2px rgba(0, 0, 0, 0.3));\n",
              "      fill: #FFFFFF;\n",
              "    }\n",
              "  </style>\n",
              "\n",
              "      <script>\n",
              "        const buttonEl =\n",
              "          document.querySelector('#df-09734255-9871-420e-bdab-029167180ab6 button.colab-df-convert');\n",
              "        buttonEl.style.display =\n",
              "          google.colab.kernel.accessAllowed ? 'block' : 'none';\n",
              "\n",
              "        async function convertToInteractive(key) {\n",
              "          const element = document.querySelector('#df-09734255-9871-420e-bdab-029167180ab6');\n",
              "          const dataTable =\n",
              "            await google.colab.kernel.invokeFunction('convertToInteractive',\n",
              "                                                     [key], {});\n",
              "          if (!dataTable) return;\n",
              "\n",
              "          const docLinkHtml = 'Like what you see? Visit the ' +\n",
              "            '<a target=\"_blank\" href=https://colab.research.google.com/notebooks/data_table.ipynb>data table notebook</a>'\n",
              "            + ' to learn more about interactive tables.';\n",
              "          element.innerHTML = '';\n",
              "          dataTable['output_type'] = 'display_data';\n",
              "          await google.colab.output.renderOutput(dataTable, element);\n",
              "          const docLink = document.createElement('div');\n",
              "          docLink.innerHTML = docLinkHtml;\n",
              "          element.appendChild(docLink);\n",
              "        }\n",
              "      </script>\n",
              "    </div>\n",
              "  </div>\n",
              "  "
            ]
          },
          "metadata": {},
          "execution_count": 16
        }
      ]
    },
    {
      "cell_type": "code",
      "source": [
        "train_data.convert_to_dataframe()[0].groupby(['race', 'sex'])['two_year_recid'].describe()"
      ],
      "metadata": {
        "colab": {
          "base_uri": "https://localhost:8080/",
          "height": 206
        },
        "id": "hmAO1PtAE9Cs",
        "outputId": "1b558319-c194-4512-e6ab-92756b6902d8"
      },
      "execution_count": null,
      "outputs": [
        {
          "output_type": "execute_result",
          "data": {
            "text/plain": [
              "           count      mean       std  min  25%  50%  75%  max\n",
              "race sex                                                     \n",
              "0.0  0.0  2096.0  0.554389  0.497152  0.0  0.0  1.0  1.0  1.0\n",
              "     1.0   436.0  0.376147  0.484974  0.0  0.0  0.0  1.0  1.0\n",
              "1.0  0.0  1308.0  0.393731  0.488763  0.0  0.0  0.0  1.0  1.0\n",
              "     1.0   382.0  0.348168  0.477014  0.0  0.0  0.0  1.0  1.0"
            ],
            "text/html": [
              "\n",
              "  <div id=\"df-0f1b03b2-6441-4d30-846c-4c7b21d95cd9\">\n",
              "    <div class=\"colab-df-container\">\n",
              "      <div>\n",
              "<style scoped>\n",
              "    .dataframe tbody tr th:only-of-type {\n",
              "        vertical-align: middle;\n",
              "    }\n",
              "\n",
              "    .dataframe tbody tr th {\n",
              "        vertical-align: top;\n",
              "    }\n",
              "\n",
              "    .dataframe thead th {\n",
              "        text-align: right;\n",
              "    }\n",
              "</style>\n",
              "<table border=\"1\" class=\"dataframe\">\n",
              "  <thead>\n",
              "    <tr style=\"text-align: right;\">\n",
              "      <th></th>\n",
              "      <th></th>\n",
              "      <th>count</th>\n",
              "      <th>mean</th>\n",
              "      <th>std</th>\n",
              "      <th>min</th>\n",
              "      <th>25%</th>\n",
              "      <th>50%</th>\n",
              "      <th>75%</th>\n",
              "      <th>max</th>\n",
              "    </tr>\n",
              "    <tr>\n",
              "      <th>race</th>\n",
              "      <th>sex</th>\n",
              "      <th></th>\n",
              "      <th></th>\n",
              "      <th></th>\n",
              "      <th></th>\n",
              "      <th></th>\n",
              "      <th></th>\n",
              "      <th></th>\n",
              "      <th></th>\n",
              "    </tr>\n",
              "  </thead>\n",
              "  <tbody>\n",
              "    <tr>\n",
              "      <th rowspan=\"2\" valign=\"top\">0.0</th>\n",
              "      <th>0.0</th>\n",
              "      <td>2096.0</td>\n",
              "      <td>0.554389</td>\n",
              "      <td>0.497152</td>\n",
              "      <td>0.0</td>\n",
              "      <td>0.0</td>\n",
              "      <td>1.0</td>\n",
              "      <td>1.0</td>\n",
              "      <td>1.0</td>\n",
              "    </tr>\n",
              "    <tr>\n",
              "      <th>1.0</th>\n",
              "      <td>436.0</td>\n",
              "      <td>0.376147</td>\n",
              "      <td>0.484974</td>\n",
              "      <td>0.0</td>\n",
              "      <td>0.0</td>\n",
              "      <td>0.0</td>\n",
              "      <td>1.0</td>\n",
              "      <td>1.0</td>\n",
              "    </tr>\n",
              "    <tr>\n",
              "      <th rowspan=\"2\" valign=\"top\">1.0</th>\n",
              "      <th>0.0</th>\n",
              "      <td>1308.0</td>\n",
              "      <td>0.393731</td>\n",
              "      <td>0.488763</td>\n",
              "      <td>0.0</td>\n",
              "      <td>0.0</td>\n",
              "      <td>0.0</td>\n",
              "      <td>1.0</td>\n",
              "      <td>1.0</td>\n",
              "    </tr>\n",
              "    <tr>\n",
              "      <th>1.0</th>\n",
              "      <td>382.0</td>\n",
              "      <td>0.348168</td>\n",
              "      <td>0.477014</td>\n",
              "      <td>0.0</td>\n",
              "      <td>0.0</td>\n",
              "      <td>0.0</td>\n",
              "      <td>1.0</td>\n",
              "      <td>1.0</td>\n",
              "    </tr>\n",
              "  </tbody>\n",
              "</table>\n",
              "</div>\n",
              "      <button class=\"colab-df-convert\" onclick=\"convertToInteractive('df-0f1b03b2-6441-4d30-846c-4c7b21d95cd9')\"\n",
              "              title=\"Convert this dataframe to an interactive table.\"\n",
              "              style=\"display:none;\">\n",
              "        \n",
              "  <svg xmlns=\"http://www.w3.org/2000/svg\" height=\"24px\"viewBox=\"0 0 24 24\"\n",
              "       width=\"24px\">\n",
              "    <path d=\"M0 0h24v24H0V0z\" fill=\"none\"/>\n",
              "    <path d=\"M18.56 5.44l.94 2.06.94-2.06 2.06-.94-2.06-.94-.94-2.06-.94 2.06-2.06.94zm-11 1L8.5 8.5l.94-2.06 2.06-.94-2.06-.94L8.5 2.5l-.94 2.06-2.06.94zm10 10l.94 2.06.94-2.06 2.06-.94-2.06-.94-.94-2.06-.94 2.06-2.06.94z\"/><path d=\"M17.41 7.96l-1.37-1.37c-.4-.4-.92-.59-1.43-.59-.52 0-1.04.2-1.43.59L10.3 9.45l-7.72 7.72c-.78.78-.78 2.05 0 2.83L4 21.41c.39.39.9.59 1.41.59.51 0 1.02-.2 1.41-.59l7.78-7.78 2.81-2.81c.8-.78.8-2.07 0-2.86zM5.41 20L4 18.59l7.72-7.72 1.47 1.35L5.41 20z\"/>\n",
              "  </svg>\n",
              "      </button>\n",
              "      \n",
              "  <style>\n",
              "    .colab-df-container {\n",
              "      display:flex;\n",
              "      flex-wrap:wrap;\n",
              "      gap: 12px;\n",
              "    }\n",
              "\n",
              "    .colab-df-convert {\n",
              "      background-color: #E8F0FE;\n",
              "      border: none;\n",
              "      border-radius: 50%;\n",
              "      cursor: pointer;\n",
              "      display: none;\n",
              "      fill: #1967D2;\n",
              "      height: 32px;\n",
              "      padding: 0 0 0 0;\n",
              "      width: 32px;\n",
              "    }\n",
              "\n",
              "    .colab-df-convert:hover {\n",
              "      background-color: #E2EBFA;\n",
              "      box-shadow: 0px 1px 2px rgba(60, 64, 67, 0.3), 0px 1px 3px 1px rgba(60, 64, 67, 0.15);\n",
              "      fill: #174EA6;\n",
              "    }\n",
              "\n",
              "    [theme=dark] .colab-df-convert {\n",
              "      background-color: #3B4455;\n",
              "      fill: #D2E3FC;\n",
              "    }\n",
              "\n",
              "    [theme=dark] .colab-df-convert:hover {\n",
              "      background-color: #434B5C;\n",
              "      box-shadow: 0px 1px 3px 1px rgba(0, 0, 0, 0.15);\n",
              "      filter: drop-shadow(0px 1px 2px rgba(0, 0, 0, 0.3));\n",
              "      fill: #FFFFFF;\n",
              "    }\n",
              "  </style>\n",
              "\n",
              "      <script>\n",
              "        const buttonEl =\n",
              "          document.querySelector('#df-0f1b03b2-6441-4d30-846c-4c7b21d95cd9 button.colab-df-convert');\n",
              "        buttonEl.style.display =\n",
              "          google.colab.kernel.accessAllowed ? 'block' : 'none';\n",
              "\n",
              "        async function convertToInteractive(key) {\n",
              "          const element = document.querySelector('#df-0f1b03b2-6441-4d30-846c-4c7b21d95cd9');\n",
              "          const dataTable =\n",
              "            await google.colab.kernel.invokeFunction('convertToInteractive',\n",
              "                                                     [key], {});\n",
              "          if (!dataTable) return;\n",
              "\n",
              "          const docLinkHtml = 'Like what you see? Visit the ' +\n",
              "            '<a target=\"_blank\" href=https://colab.research.google.com/notebooks/data_table.ipynb>data table notebook</a>'\n",
              "            + ' to learn more about interactive tables.';\n",
              "          element.innerHTML = '';\n",
              "          dataTable['output_type'] = 'display_data';\n",
              "          await google.colab.output.renderOutput(dataTable, element);\n",
              "          const docLink = document.createElement('div');\n",
              "          docLink.innerHTML = docLinkHtml;\n",
              "          element.appendChild(docLink);\n",
              "        }\n",
              "      </script>\n",
              "    </div>\n",
              "  </div>\n",
              "  "
            ]
          },
          "metadata": {},
          "execution_count": 17
        }
      ]
    },
    {
      "cell_type": "code",
      "source": [
        "test_data.convert_to_dataframe()[0].groupby(['race'])['two_year_recid'].describe()"
      ],
      "metadata": {
        "colab": {
          "base_uri": "https://localhost:8080/",
          "height": 143
        },
        "id": "8W3CG2zT0jYj",
        "outputId": "105303ab-7a16-4f2a-82a1-daf0224f1d01"
      },
      "execution_count": null,
      "outputs": [
        {
          "output_type": "execute_result",
          "data": {
            "text/plain": [
              "      count      mean       std  min  25%  50%  75%  max\n",
              "race                                                    \n",
              "0.0   643.0  0.520995  0.499948  0.0  0.0  1.0  1.0  1.0\n",
              "1.0   413.0  0.421308  0.494368  0.0  0.0  0.0  1.0  1.0"
            ],
            "text/html": [
              "\n",
              "  <div id=\"df-e72705da-88ab-4c61-a6ef-b0d557b52975\">\n",
              "    <div class=\"colab-df-container\">\n",
              "      <div>\n",
              "<style scoped>\n",
              "    .dataframe tbody tr th:only-of-type {\n",
              "        vertical-align: middle;\n",
              "    }\n",
              "\n",
              "    .dataframe tbody tr th {\n",
              "        vertical-align: top;\n",
              "    }\n",
              "\n",
              "    .dataframe thead th {\n",
              "        text-align: right;\n",
              "    }\n",
              "</style>\n",
              "<table border=\"1\" class=\"dataframe\">\n",
              "  <thead>\n",
              "    <tr style=\"text-align: right;\">\n",
              "      <th></th>\n",
              "      <th>count</th>\n",
              "      <th>mean</th>\n",
              "      <th>std</th>\n",
              "      <th>min</th>\n",
              "      <th>25%</th>\n",
              "      <th>50%</th>\n",
              "      <th>75%</th>\n",
              "      <th>max</th>\n",
              "    </tr>\n",
              "    <tr>\n",
              "      <th>race</th>\n",
              "      <th></th>\n",
              "      <th></th>\n",
              "      <th></th>\n",
              "      <th></th>\n",
              "      <th></th>\n",
              "      <th></th>\n",
              "      <th></th>\n",
              "      <th></th>\n",
              "    </tr>\n",
              "  </thead>\n",
              "  <tbody>\n",
              "    <tr>\n",
              "      <th>0.0</th>\n",
              "      <td>643.0</td>\n",
              "      <td>0.520995</td>\n",
              "      <td>0.499948</td>\n",
              "      <td>0.0</td>\n",
              "      <td>0.0</td>\n",
              "      <td>1.0</td>\n",
              "      <td>1.0</td>\n",
              "      <td>1.0</td>\n",
              "    </tr>\n",
              "    <tr>\n",
              "      <th>1.0</th>\n",
              "      <td>413.0</td>\n",
              "      <td>0.421308</td>\n",
              "      <td>0.494368</td>\n",
              "      <td>0.0</td>\n",
              "      <td>0.0</td>\n",
              "      <td>0.0</td>\n",
              "      <td>1.0</td>\n",
              "      <td>1.0</td>\n",
              "    </tr>\n",
              "  </tbody>\n",
              "</table>\n",
              "</div>\n",
              "      <button class=\"colab-df-convert\" onclick=\"convertToInteractive('df-e72705da-88ab-4c61-a6ef-b0d557b52975')\"\n",
              "              title=\"Convert this dataframe to an interactive table.\"\n",
              "              style=\"display:none;\">\n",
              "        \n",
              "  <svg xmlns=\"http://www.w3.org/2000/svg\" height=\"24px\"viewBox=\"0 0 24 24\"\n",
              "       width=\"24px\">\n",
              "    <path d=\"M0 0h24v24H0V0z\" fill=\"none\"/>\n",
              "    <path d=\"M18.56 5.44l.94 2.06.94-2.06 2.06-.94-2.06-.94-.94-2.06-.94 2.06-2.06.94zm-11 1L8.5 8.5l.94-2.06 2.06-.94-2.06-.94L8.5 2.5l-.94 2.06-2.06.94zm10 10l.94 2.06.94-2.06 2.06-.94-2.06-.94-.94-2.06-.94 2.06-2.06.94z\"/><path d=\"M17.41 7.96l-1.37-1.37c-.4-.4-.92-.59-1.43-.59-.52 0-1.04.2-1.43.59L10.3 9.45l-7.72 7.72c-.78.78-.78 2.05 0 2.83L4 21.41c.39.39.9.59 1.41.59.51 0 1.02-.2 1.41-.59l7.78-7.78 2.81-2.81c.8-.78.8-2.07 0-2.86zM5.41 20L4 18.59l7.72-7.72 1.47 1.35L5.41 20z\"/>\n",
              "  </svg>\n",
              "      </button>\n",
              "      \n",
              "  <style>\n",
              "    .colab-df-container {\n",
              "      display:flex;\n",
              "      flex-wrap:wrap;\n",
              "      gap: 12px;\n",
              "    }\n",
              "\n",
              "    .colab-df-convert {\n",
              "      background-color: #E8F0FE;\n",
              "      border: none;\n",
              "      border-radius: 50%;\n",
              "      cursor: pointer;\n",
              "      display: none;\n",
              "      fill: #1967D2;\n",
              "      height: 32px;\n",
              "      padding: 0 0 0 0;\n",
              "      width: 32px;\n",
              "    }\n",
              "\n",
              "    .colab-df-convert:hover {\n",
              "      background-color: #E2EBFA;\n",
              "      box-shadow: 0px 1px 2px rgba(60, 64, 67, 0.3), 0px 1px 3px 1px rgba(60, 64, 67, 0.15);\n",
              "      fill: #174EA6;\n",
              "    }\n",
              "\n",
              "    [theme=dark] .colab-df-convert {\n",
              "      background-color: #3B4455;\n",
              "      fill: #D2E3FC;\n",
              "    }\n",
              "\n",
              "    [theme=dark] .colab-df-convert:hover {\n",
              "      background-color: #434B5C;\n",
              "      box-shadow: 0px 1px 3px 1px rgba(0, 0, 0, 0.15);\n",
              "      filter: drop-shadow(0px 1px 2px rgba(0, 0, 0, 0.3));\n",
              "      fill: #FFFFFF;\n",
              "    }\n",
              "  </style>\n",
              "\n",
              "      <script>\n",
              "        const buttonEl =\n",
              "          document.querySelector('#df-e72705da-88ab-4c61-a6ef-b0d557b52975 button.colab-df-convert');\n",
              "        buttonEl.style.display =\n",
              "          google.colab.kernel.accessAllowed ? 'block' : 'none';\n",
              "\n",
              "        async function convertToInteractive(key) {\n",
              "          const element = document.querySelector('#df-e72705da-88ab-4c61-a6ef-b0d557b52975');\n",
              "          const dataTable =\n",
              "            await google.colab.kernel.invokeFunction('convertToInteractive',\n",
              "                                                     [key], {});\n",
              "          if (!dataTable) return;\n",
              "\n",
              "          const docLinkHtml = 'Like what you see? Visit the ' +\n",
              "            '<a target=\"_blank\" href=https://colab.research.google.com/notebooks/data_table.ipynb>data table notebook</a>'\n",
              "            + ' to learn more about interactive tables.';\n",
              "          element.innerHTML = '';\n",
              "          dataTable['output_type'] = 'display_data';\n",
              "          await google.colab.output.renderOutput(dataTable, element);\n",
              "          const docLink = document.createElement('div');\n",
              "          docLink.innerHTML = docLinkHtml;\n",
              "          element.appendChild(docLink);\n",
              "        }\n",
              "      </script>\n",
              "    </div>\n",
              "  </div>\n",
              "  "
            ]
          },
          "metadata": {},
          "execution_count": 27
        }
      ]
    },
    {
      "cell_type": "code",
      "source": [
        "test_data.convert_to_dataframe()[0].groupby(['sex'])['two_year_recid'].describe()"
      ],
      "metadata": {
        "colab": {
          "base_uri": "https://localhost:8080/",
          "height": 143
        },
        "id": "dBYXqguT0o75",
        "outputId": "7762a301-c335-4336-a6fb-24e898256ebf"
      },
      "execution_count": null,
      "outputs": [
        {
          "output_type": "execute_result",
          "data": {
            "text/plain": [
              "     count      mean       std  min  25%  50%  75%  max\n",
              "sex                                                    \n",
              "0.0  843.0  0.513642  0.500111  0.0  0.0  1.0  1.0  1.0\n",
              "1.0  213.0  0.356808  0.480186  0.0  0.0  0.0  1.0  1.0"
            ],
            "text/html": [
              "\n",
              "  <div id=\"df-6f546032-5067-416e-b49e-3ed69fa2e81c\">\n",
              "    <div class=\"colab-df-container\">\n",
              "      <div>\n",
              "<style scoped>\n",
              "    .dataframe tbody tr th:only-of-type {\n",
              "        vertical-align: middle;\n",
              "    }\n",
              "\n",
              "    .dataframe tbody tr th {\n",
              "        vertical-align: top;\n",
              "    }\n",
              "\n",
              "    .dataframe thead th {\n",
              "        text-align: right;\n",
              "    }\n",
              "</style>\n",
              "<table border=\"1\" class=\"dataframe\">\n",
              "  <thead>\n",
              "    <tr style=\"text-align: right;\">\n",
              "      <th></th>\n",
              "      <th>count</th>\n",
              "      <th>mean</th>\n",
              "      <th>std</th>\n",
              "      <th>min</th>\n",
              "      <th>25%</th>\n",
              "      <th>50%</th>\n",
              "      <th>75%</th>\n",
              "      <th>max</th>\n",
              "    </tr>\n",
              "    <tr>\n",
              "      <th>sex</th>\n",
              "      <th></th>\n",
              "      <th></th>\n",
              "      <th></th>\n",
              "      <th></th>\n",
              "      <th></th>\n",
              "      <th></th>\n",
              "      <th></th>\n",
              "      <th></th>\n",
              "    </tr>\n",
              "  </thead>\n",
              "  <tbody>\n",
              "    <tr>\n",
              "      <th>0.0</th>\n",
              "      <td>843.0</td>\n",
              "      <td>0.513642</td>\n",
              "      <td>0.500111</td>\n",
              "      <td>0.0</td>\n",
              "      <td>0.0</td>\n",
              "      <td>1.0</td>\n",
              "      <td>1.0</td>\n",
              "      <td>1.0</td>\n",
              "    </tr>\n",
              "    <tr>\n",
              "      <th>1.0</th>\n",
              "      <td>213.0</td>\n",
              "      <td>0.356808</td>\n",
              "      <td>0.480186</td>\n",
              "      <td>0.0</td>\n",
              "      <td>0.0</td>\n",
              "      <td>0.0</td>\n",
              "      <td>1.0</td>\n",
              "      <td>1.0</td>\n",
              "    </tr>\n",
              "  </tbody>\n",
              "</table>\n",
              "</div>\n",
              "      <button class=\"colab-df-convert\" onclick=\"convertToInteractive('df-6f546032-5067-416e-b49e-3ed69fa2e81c')\"\n",
              "              title=\"Convert this dataframe to an interactive table.\"\n",
              "              style=\"display:none;\">\n",
              "        \n",
              "  <svg xmlns=\"http://www.w3.org/2000/svg\" height=\"24px\"viewBox=\"0 0 24 24\"\n",
              "       width=\"24px\">\n",
              "    <path d=\"M0 0h24v24H0V0z\" fill=\"none\"/>\n",
              "    <path d=\"M18.56 5.44l.94 2.06.94-2.06 2.06-.94-2.06-.94-.94-2.06-.94 2.06-2.06.94zm-11 1L8.5 8.5l.94-2.06 2.06-.94-2.06-.94L8.5 2.5l-.94 2.06-2.06.94zm10 10l.94 2.06.94-2.06 2.06-.94-2.06-.94-.94-2.06-.94 2.06-2.06.94z\"/><path d=\"M17.41 7.96l-1.37-1.37c-.4-.4-.92-.59-1.43-.59-.52 0-1.04.2-1.43.59L10.3 9.45l-7.72 7.72c-.78.78-.78 2.05 0 2.83L4 21.41c.39.39.9.59 1.41.59.51 0 1.02-.2 1.41-.59l7.78-7.78 2.81-2.81c.8-.78.8-2.07 0-2.86zM5.41 20L4 18.59l7.72-7.72 1.47 1.35L5.41 20z\"/>\n",
              "  </svg>\n",
              "      </button>\n",
              "      \n",
              "  <style>\n",
              "    .colab-df-container {\n",
              "      display:flex;\n",
              "      flex-wrap:wrap;\n",
              "      gap: 12px;\n",
              "    }\n",
              "\n",
              "    .colab-df-convert {\n",
              "      background-color: #E8F0FE;\n",
              "      border: none;\n",
              "      border-radius: 50%;\n",
              "      cursor: pointer;\n",
              "      display: none;\n",
              "      fill: #1967D2;\n",
              "      height: 32px;\n",
              "      padding: 0 0 0 0;\n",
              "      width: 32px;\n",
              "    }\n",
              "\n",
              "    .colab-df-convert:hover {\n",
              "      background-color: #E2EBFA;\n",
              "      box-shadow: 0px 1px 2px rgba(60, 64, 67, 0.3), 0px 1px 3px 1px rgba(60, 64, 67, 0.15);\n",
              "      fill: #174EA6;\n",
              "    }\n",
              "\n",
              "    [theme=dark] .colab-df-convert {\n",
              "      background-color: #3B4455;\n",
              "      fill: #D2E3FC;\n",
              "    }\n",
              "\n",
              "    [theme=dark] .colab-df-convert:hover {\n",
              "      background-color: #434B5C;\n",
              "      box-shadow: 0px 1px 3px 1px rgba(0, 0, 0, 0.15);\n",
              "      filter: drop-shadow(0px 1px 2px rgba(0, 0, 0, 0.3));\n",
              "      fill: #FFFFFF;\n",
              "    }\n",
              "  </style>\n",
              "\n",
              "      <script>\n",
              "        const buttonEl =\n",
              "          document.querySelector('#df-6f546032-5067-416e-b49e-3ed69fa2e81c button.colab-df-convert');\n",
              "        buttonEl.style.display =\n",
              "          google.colab.kernel.accessAllowed ? 'block' : 'none';\n",
              "\n",
              "        async function convertToInteractive(key) {\n",
              "          const element = document.querySelector('#df-6f546032-5067-416e-b49e-3ed69fa2e81c');\n",
              "          const dataTable =\n",
              "            await google.colab.kernel.invokeFunction('convertToInteractive',\n",
              "                                                     [key], {});\n",
              "          if (!dataTable) return;\n",
              "\n",
              "          const docLinkHtml = 'Like what you see? Visit the ' +\n",
              "            '<a target=\"_blank\" href=https://colab.research.google.com/notebooks/data_table.ipynb>data table notebook</a>'\n",
              "            + ' to learn more about interactive tables.';\n",
              "          element.innerHTML = '';\n",
              "          dataTable['output_type'] = 'display_data';\n",
              "          await google.colab.output.renderOutput(dataTable, element);\n",
              "          const docLink = document.createElement('div');\n",
              "          docLink.innerHTML = docLinkHtml;\n",
              "          element.appendChild(docLink);\n",
              "        }\n",
              "      </script>\n",
              "    </div>\n",
              "  </div>\n",
              "  "
            ]
          },
          "metadata": {},
          "execution_count": 28
        }
      ]
    },
    {
      "cell_type": "code",
      "source": [
        "test_data.convert_to_dataframe()[0].groupby(['race', 'sex'])['two_year_recid'].describe()"
      ],
      "metadata": {
        "colab": {
          "base_uri": "https://localhost:8080/",
          "height": 206
        },
        "id": "SJw8JPqC0oNO",
        "outputId": "25f691be-cffd-4b32-c519-76ffd57cfb18"
      },
      "execution_count": null,
      "outputs": [
        {
          "output_type": "execute_result",
          "data": {
            "text/plain": [
              "          count      mean       std  min  25%  50%  75%  max\n",
              "race sex                                                    \n",
              "0.0  0.0  530.0  0.558491  0.497036  0.0  0.0  1.0  1.0  1.0\n",
              "     1.0  113.0  0.345133  0.477529  0.0  0.0  0.0  1.0  1.0\n",
              "1.0  0.0  313.0  0.437700  0.496898  0.0  0.0  0.0  1.0  1.0\n",
              "     1.0  100.0  0.370000  0.485237  0.0  0.0  0.0  1.0  1.0"
            ],
            "text/html": [
              "\n",
              "  <div id=\"df-2418204a-e759-4b59-822c-234283e229c5\">\n",
              "    <div class=\"colab-df-container\">\n",
              "      <div>\n",
              "<style scoped>\n",
              "    .dataframe tbody tr th:only-of-type {\n",
              "        vertical-align: middle;\n",
              "    }\n",
              "\n",
              "    .dataframe tbody tr th {\n",
              "        vertical-align: top;\n",
              "    }\n",
              "\n",
              "    .dataframe thead th {\n",
              "        text-align: right;\n",
              "    }\n",
              "</style>\n",
              "<table border=\"1\" class=\"dataframe\">\n",
              "  <thead>\n",
              "    <tr style=\"text-align: right;\">\n",
              "      <th></th>\n",
              "      <th></th>\n",
              "      <th>count</th>\n",
              "      <th>mean</th>\n",
              "      <th>std</th>\n",
              "      <th>min</th>\n",
              "      <th>25%</th>\n",
              "      <th>50%</th>\n",
              "      <th>75%</th>\n",
              "      <th>max</th>\n",
              "    </tr>\n",
              "    <tr>\n",
              "      <th>race</th>\n",
              "      <th>sex</th>\n",
              "      <th></th>\n",
              "      <th></th>\n",
              "      <th></th>\n",
              "      <th></th>\n",
              "      <th></th>\n",
              "      <th></th>\n",
              "      <th></th>\n",
              "      <th></th>\n",
              "    </tr>\n",
              "  </thead>\n",
              "  <tbody>\n",
              "    <tr>\n",
              "      <th rowspan=\"2\" valign=\"top\">0.0</th>\n",
              "      <th>0.0</th>\n",
              "      <td>530.0</td>\n",
              "      <td>0.558491</td>\n",
              "      <td>0.497036</td>\n",
              "      <td>0.0</td>\n",
              "      <td>0.0</td>\n",
              "      <td>1.0</td>\n",
              "      <td>1.0</td>\n",
              "      <td>1.0</td>\n",
              "    </tr>\n",
              "    <tr>\n",
              "      <th>1.0</th>\n",
              "      <td>113.0</td>\n",
              "      <td>0.345133</td>\n",
              "      <td>0.477529</td>\n",
              "      <td>0.0</td>\n",
              "      <td>0.0</td>\n",
              "      <td>0.0</td>\n",
              "      <td>1.0</td>\n",
              "      <td>1.0</td>\n",
              "    </tr>\n",
              "    <tr>\n",
              "      <th rowspan=\"2\" valign=\"top\">1.0</th>\n",
              "      <th>0.0</th>\n",
              "      <td>313.0</td>\n",
              "      <td>0.437700</td>\n",
              "      <td>0.496898</td>\n",
              "      <td>0.0</td>\n",
              "      <td>0.0</td>\n",
              "      <td>0.0</td>\n",
              "      <td>1.0</td>\n",
              "      <td>1.0</td>\n",
              "    </tr>\n",
              "    <tr>\n",
              "      <th>1.0</th>\n",
              "      <td>100.0</td>\n",
              "      <td>0.370000</td>\n",
              "      <td>0.485237</td>\n",
              "      <td>0.0</td>\n",
              "      <td>0.0</td>\n",
              "      <td>0.0</td>\n",
              "      <td>1.0</td>\n",
              "      <td>1.0</td>\n",
              "    </tr>\n",
              "  </tbody>\n",
              "</table>\n",
              "</div>\n",
              "      <button class=\"colab-df-convert\" onclick=\"convertToInteractive('df-2418204a-e759-4b59-822c-234283e229c5')\"\n",
              "              title=\"Convert this dataframe to an interactive table.\"\n",
              "              style=\"display:none;\">\n",
              "        \n",
              "  <svg xmlns=\"http://www.w3.org/2000/svg\" height=\"24px\"viewBox=\"0 0 24 24\"\n",
              "       width=\"24px\">\n",
              "    <path d=\"M0 0h24v24H0V0z\" fill=\"none\"/>\n",
              "    <path d=\"M18.56 5.44l.94 2.06.94-2.06 2.06-.94-2.06-.94-.94-2.06-.94 2.06-2.06.94zm-11 1L8.5 8.5l.94-2.06 2.06-.94-2.06-.94L8.5 2.5l-.94 2.06-2.06.94zm10 10l.94 2.06.94-2.06 2.06-.94-2.06-.94-.94-2.06-.94 2.06-2.06.94z\"/><path d=\"M17.41 7.96l-1.37-1.37c-.4-.4-.92-.59-1.43-.59-.52 0-1.04.2-1.43.59L10.3 9.45l-7.72 7.72c-.78.78-.78 2.05 0 2.83L4 21.41c.39.39.9.59 1.41.59.51 0 1.02-.2 1.41-.59l7.78-7.78 2.81-2.81c.8-.78.8-2.07 0-2.86zM5.41 20L4 18.59l7.72-7.72 1.47 1.35L5.41 20z\"/>\n",
              "  </svg>\n",
              "      </button>\n",
              "      \n",
              "  <style>\n",
              "    .colab-df-container {\n",
              "      display:flex;\n",
              "      flex-wrap:wrap;\n",
              "      gap: 12px;\n",
              "    }\n",
              "\n",
              "    .colab-df-convert {\n",
              "      background-color: #E8F0FE;\n",
              "      border: none;\n",
              "      border-radius: 50%;\n",
              "      cursor: pointer;\n",
              "      display: none;\n",
              "      fill: #1967D2;\n",
              "      height: 32px;\n",
              "      padding: 0 0 0 0;\n",
              "      width: 32px;\n",
              "    }\n",
              "\n",
              "    .colab-df-convert:hover {\n",
              "      background-color: #E2EBFA;\n",
              "      box-shadow: 0px 1px 2px rgba(60, 64, 67, 0.3), 0px 1px 3px 1px rgba(60, 64, 67, 0.15);\n",
              "      fill: #174EA6;\n",
              "    }\n",
              "\n",
              "    [theme=dark] .colab-df-convert {\n",
              "      background-color: #3B4455;\n",
              "      fill: #D2E3FC;\n",
              "    }\n",
              "\n",
              "    [theme=dark] .colab-df-convert:hover {\n",
              "      background-color: #434B5C;\n",
              "      box-shadow: 0px 1px 3px 1px rgba(0, 0, 0, 0.15);\n",
              "      filter: drop-shadow(0px 1px 2px rgba(0, 0, 0, 0.3));\n",
              "      fill: #FFFFFF;\n",
              "    }\n",
              "  </style>\n",
              "\n",
              "      <script>\n",
              "        const buttonEl =\n",
              "          document.querySelector('#df-2418204a-e759-4b59-822c-234283e229c5 button.colab-df-convert');\n",
              "        buttonEl.style.display =\n",
              "          google.colab.kernel.accessAllowed ? 'block' : 'none';\n",
              "\n",
              "        async function convertToInteractive(key) {\n",
              "          const element = document.querySelector('#df-2418204a-e759-4b59-822c-234283e229c5');\n",
              "          const dataTable =\n",
              "            await google.colab.kernel.invokeFunction('convertToInteractive',\n",
              "                                                     [key], {});\n",
              "          if (!dataTable) return;\n",
              "\n",
              "          const docLinkHtml = 'Like what you see? Visit the ' +\n",
              "            '<a target=\"_blank\" href=https://colab.research.google.com/notebooks/data_table.ipynb>data table notebook</a>'\n",
              "            + ' to learn more about interactive tables.';\n",
              "          element.innerHTML = '';\n",
              "          dataTable['output_type'] = 'display_data';\n",
              "          await google.colab.output.renderOutput(dataTable, element);\n",
              "          const docLink = document.createElement('div');\n",
              "          docLink.innerHTML = docLinkHtml;\n",
              "          element.appendChild(docLink);\n",
              "        }\n",
              "      </script>\n",
              "    </div>\n",
              "  </div>\n",
              "  "
            ]
          },
          "metadata": {},
          "execution_count": 29
        }
      ]
    },
    {
      "cell_type": "markdown",
      "metadata": {
        "id": "u-McnZqSxu6q"
      },
      "source": [
        "# Classifiers\n",
        "\n",
        "**Training classifiers**\n",
        "\n",
        "Now, train the following classifiers:\n",
        "\n",
        "1. A logistic regression classifier making use of all features \n",
        "2. A logistic regression classifier without the race feature\n",
        "3. A classifier after reweighting instances in the training set https://aif360.readthedocs.io/en/latest/modules/generated/aif360.algorithms.preprocessing.Reweighing.html.\n",
        "    * Report the weights that are used for reweighing and a short interpretation/discussion.\n",
        "    * Hint: Think about when you should reweight the data: during initialization or during training (i.e. fit)? Read the documentation of the Logistic regression model in Scikit-learn carefully (if you use it). \n",
        "4. A classifier after post-processing \n",
        "https://aif360.readthedocs.io/en/latest/modules/generated/aif360.algorithms.postprocessing.EqOddsPostprocessing.html#aif360.algorithms.postprocessing.EqOddsPostprocessing \n",
        "\n",
        "For training the classifier we recommend using scikit-learn (https://scikit-learn.org/stable/).\n",
        "AIF360 contains a sklearn wrapper, however that one is in development and not complete.\n",
        "We recommend using the base AIF360 library, and not their sklearn wrapper.\n",
        "\n",
        "**Report**\n",
        "\n",
        "For each of these classifiers, report the following:\n",
        "* Overall precision, recall, F1 and accuracy.\n",
        "* The statistical parity difference. Does this classifier satisfy statistical parity? How does this difference compare to the original dataset?\n",
        "* Difference of true positive rates between the two groups. Does the classifier satisfy the equal opportunity criterion? \n",
        "\n"
      ]
    },
    {
      "cell_type": "code",
      "source": [
        "from sklearn.linear_model import LogisticRegression\n",
        "from sklearn.metrics import f1_score, precision_score, recall_score, accuracy_score\n",
        "from aif360.datasets.binary_label_dataset import BinaryLabelDataset\n",
        "from aif360.metrics import ClassificationMetric\n",
        "import pandas as pd\n",
        "# A logistic regression classifier making use of all features\n",
        "train_data_new = train_data.convert_to_dataframe()[0]\n",
        "train_data_x = train_data_new.drop(labels = \"two_year_recid\", axis = 1)\n",
        "train_data_y = train_data_new[\"two_year_recid\"]\n",
        "Classifier_1 = LogisticRegression().fit(train_data_x, train_data_y)\n",
        "\n",
        "test_data_new = test_data.convert_to_dataframe()[0]\n",
        "test_data_x = test_data_new.drop(labels = \"two_year_recid\", axis = 1)\n",
        "test_data_y = test_data_new[\"two_year_recid\"]\n",
        "Pred_1 = Classifier_1.predict(test_data_x)\n",
        "\n",
        "precision_1 = precision_score(test_data_y, Pred_1)\n",
        "recall_1 = recall_score(test_data_y, Pred_1)\n",
        "F1_1 = f1_score(test_data_y, Pred_1)\n",
        "accuracy_1 = accuracy_score(test_data_y, Pred_1)\n",
        "print(\"The precision of the first classifier is: \", precision_1)\n",
        "print(\"The recall of the first classifier is: \", recall_1)\n",
        "print(\"The F1 score of the first classifier is: \", F1_1)\n",
        "print(\"The accuracy of the first classifier is: \", accuracy_1)\n",
        "\n",
        "temp = test_data_new.copy()\n",
        "temp[\"two_year_recid\"] = Pred_1\n",
        "labeled_data = BinaryLabelDataset(df = temp, label_names = [\"two_year_recid\"], protected_attribute_names = [\"race\"], favorable_label = 0, unfavorable_label = 1)\n",
        "metric_test_data = BinaryLabelDatasetMetric(labeled_data, unpriv_group, priv_group)\n",
        "parity_difference = metric_test_data.statistical_parity_difference()\n",
        "print(\"The mean difference (statistical parity difference) of the first classifier is:\", parity_difference)\n",
        "\n",
        "labeled_data = BinaryLabelDataset(df = test_data_new, label_names = [\"two_year_recid\"], protected_attribute_names = [\"race\"], favorable_label = 0, unfavorable_label = 1)\n",
        "labeled_data_1 = labeled_data.copy()\n",
        "labeled_data_2 = labeled_data.copy()\n",
        "labeled_data_2.labels = Pred_1.reshape(-1, 1)\n",
        "metric_test_data = ClassificationMetric(labeled_data_1, labeled_data_2, unpriv_group, priv_group,)\n",
        "true_positive_rate_difference = metric_test_data.true_positive_rate_difference()\n",
        "true_positive_rate_priviledged = metric_test_data.true_positive_rate(True)\n",
        "true_positive_rate_unpriviledged = metric_test_data.true_positive_rate(False)\n",
        "print(\"The true positive rate difference of the first classifier is:\", true_positive_rate_difference)\n",
        "print(\"The true positive rate priviledged of the first classifier is:\", true_positive_rate_priviledged)\n",
        "print(\"The true positive rate unpriviledged of the first classifier is:\", true_positive_rate_unpriviledged)"
      ],
      "metadata": {
        "colab": {
          "base_uri": "https://localhost:8080/"
        },
        "id": "IcJBJ_naqA6z",
        "outputId": "c3918773-7781-4553-b0e8-4982733ea0c3"
      },
      "execution_count": null,
      "outputs": [
        {
          "output_type": "stream",
          "name": "stdout",
          "text": [
            "The precision of the first classifier is:  0.6623655913978495\n",
            "The recall of the first classifier is:  0.6051080550098232\n",
            "The F1 score of the first classifier is:  0.6324435318275154\n",
            "The accuracy of the first classifier is:  0.6609848484848485\n",
            "The mean difference (statistical parity difference) of the first classifier is: -0.2976852601493453\n",
            "The true positive rate difference of the first classifier is: -0.2793837961201978\n",
            "The true positive rate priviledged of the first classifier is: 0.8702928870292888\n",
            "The true positive rate unpriviledged of the first classifier is: 0.5909090909090909\n"
          ]
        }
      ]
    },
    {
      "cell_type": "code",
      "source": [
        "# A logistic regression classifier without the race feature\n",
        "#train_data_new = train_data.convert_to_dataframe()[0]\n",
        "train_data_x = train_data_new.drop(labels = [\"two_year_recid\", \"race\"], axis = 1)\n",
        "train_data_y = train_data_new[\"two_year_recid\"]\n",
        "Classifier_2 = LogisticRegression().fit(train_data_x, train_data_y)\n",
        "\n",
        "#test_data_new = test_data.convert_to_dataframe()[0]\n",
        "test_data_x = test_data_new.drop(labels = [\"two_year_recid\", \"race\"], axis = 1)\n",
        "test_data_y = test_data_new[\"two_year_recid\"]\n",
        "Pred_2 = Classifier_2.predict(test_data_x)\n",
        "\n",
        "precision_2 = precision_score(test_data_y, Pred_2)\n",
        "recall_2 = recall_score(test_data_y, Pred_2)\n",
        "F1_2 = f1_score(test_data_y, Pred_2)\n",
        "accuracy_2 = accuracy_score(test_data_y, Pred_2)\n",
        "print(\"The precision of the second classifier is: \", precision_2)\n",
        "print(\"The recall of the second classifier is: \", recall_2)\n",
        "print(\"The F1 score of the second classifier is: \", F1_2)\n",
        "print(\"The accuracy of the second classifier is: \", accuracy_2)\n",
        "\n",
        "#temp_2 = test_data_new.copy()\n",
        "temp[\"two_year_recid\"] = Pred_2\n",
        "labeled_data = BinaryLabelDataset(df = temp, label_names = [\"two_year_recid\"], protected_attribute_names = [\"race\"], favorable_label = 0, unfavorable_label = 1)\n",
        "metric_test_data = BinaryLabelDatasetMetric(labeled_data, unpriv_group, priv_group)\n",
        "parity_difference = metric_test_data.statistical_parity_difference()\n",
        "print(\"The mean difference (statistical parity difference) of the second classifier is:\", parity_difference)\n",
        "\n",
        "labeled_data = BinaryLabelDataset(df = test_data_new, label_names = [\"two_year_recid\"], protected_attribute_names = [\"race\"], favorable_label = 0, unfavorable_label = 1)\n",
        "labeled_data_1 = labeled_data.copy()\n",
        "labeled_data_2 = labeled_data.copy()\n",
        "labeled_data_2.labels = Pred_2.reshape(-1, 1)\n",
        "metric_test_data = ClassificationMetric(labeled_data_1, labeled_data_2, unpriv_group, priv_group,)\n",
        "true_positive_rate_difference = metric_test_data.true_positive_rate_difference()\n",
        "true_positive_rate_priviledged = metric_test_data.true_positive_rate(True)\n",
        "true_positive_rate_unpriviledged = metric_test_data.true_positive_rate(False)\n",
        "print(\"The true positive rate difference of the second classifier is:\", true_positive_rate_difference)\n",
        "print(\"The true positive rate priviledged of the second classifier is:\", true_positive_rate_priviledged)\n",
        "print(\"The true positive rate unpriviledged of the second classifier is:\", true_positive_rate_unpriviledged)"
      ],
      "metadata": {
        "colab": {
          "base_uri": "https://localhost:8080/"
        },
        "id": "cfAyg7TosXso",
        "outputId": "cab8c93b-527b-45e3-9d14-f35b46467039"
      },
      "execution_count": null,
      "outputs": [
        {
          "output_type": "stream",
          "name": "stdout",
          "text": [
            "The precision of the second classifier is:  0.6828087167070218\n",
            "The recall of the second classifier is:  0.5540275049115914\n",
            "The F1 score of the second classifier is:  0.6117136659436009\n",
            "The accuracy of the second classifier is:  0.6609848484848485\n",
            "The mean difference (statistical parity difference) of the second classifier is: -0.21283782511607596\n",
            "The true positive rate difference of the second classifier is: -0.18753735803945004\n",
            "The true positive rate priviledged of the second classifier is: 0.8661087866108786\n",
            "The true positive rate unpriviledged of the second classifier is: 0.6785714285714286\n"
          ]
        }
      ]
    },
    {
      "cell_type": "code",
      "source": [
        "from aif360.algorithms.preprocessing import Reweighing\n",
        "import matplotlib.pyplot as plt\n",
        "import seaborn as sns\n",
        "ReWeight = Reweighing(unpriv_group, priv_group).fit(train_data)\n",
        "train_data_transformed = ReWeight.transform(train_data)\n",
        "print(\"The value of the weights of the train data: \", train_data.instance_weights)\n",
        "print(\"The mean value of the weights of the train data: \", train_data.instance_weights.mean())\n",
        "print(\"The standard error value of the weights of the train data: \", train_data.instance_weights.std())\n",
        "\n",
        "print(\"The value of the weights of the transformed data: \", train_data_transformed.instance_weights)\n",
        "print(\"The mean value of the weights of the transformed data: \", train_data_transformed.instance_weights.mean())\n",
        "print(\"The standard error value of the weights of the transformed data: \", train_data_transformed.instance_weights.std())\n",
        "\n",
        "train_data_new = train_data.convert_to_dataframe()[0]\n",
        "train_data_new[\"weights\"] = train_data_transformed.instance_weights\n",
        "plt.boxplot([train_data_new[train_data_new.race == 0.0][\"weights\"], train_data_new[train_data_new.race == 1.0][\"weights\"]])\n",
        "plt.show()\n",
        "sns.boxplot(x = train_data_new[\"race\"], y = train_data_new[\"weights\"])\n",
        "plt.show()\n"
      ],
      "metadata": {
        "colab": {
          "base_uri": "https://localhost:8080/",
          "height": 674
        },
        "id": "ycbBUJMYwwEH",
        "outputId": "b9678dfe-4a76-433a-a8e3-04fd40d389cf"
      },
      "execution_count": null,
      "outputs": [
        {
          "output_type": "stream",
          "name": "stdout",
          "text": [
            "The value of the weights of the train data:  [1. 1. 1. ... 1. 1. 1.]\n",
            "The mean value of the weights of the train data:  1.0\n",
            "The standard error value of the weights of the train data:  0.0\n",
            "The value of the weights of the transformed data:  [1.11787816 1.11787816 0.89278955 ... 0.86356904 0.89278955 0.89278955]\n",
            "The mean value of the weights of the transformed data:  1.0\n",
            "The standard error value of the weights of the transformed data:  0.13985673014786515\n"
          ]
        },
        {
          "output_type": "stream",
          "name": "stderr",
          "text": [
            "Creating an ndarray from ragged nested sequences (which is a list-or-tuple of lists-or-tuples-or ndarrays with different lengths or shapes) is deprecated. If you meant to do this, you must specify 'dtype=object' when creating the ndarray.\n"
          ]
        },
        {
          "output_type": "display_data",
          "data": {
            "text/plain": [
              "<Figure size 432x288 with 1 Axes>"
            ],
            "image/png": "[encoded data removed]"
          },
          "metadata": {
            "needs_background": "light"
          }
        },
        {
          "output_type": "display_data",
          "data": {
            "text/plain": [
              "<Figure size 432x288 with 1 Axes>"
            ],
            "image/png": "[encoded data removed]"
          },
          "metadata": {
            "needs_background": "light"
          }
        }
      ]
    },
    {
      "cell_type": "code",
      "source": [
        "train_data_new.groupby(['race'])['weights'].describe()"
      ],
      "metadata": {
        "colab": {
          "base_uri": "https://localhost:8080/",
          "height": 143
        },
        "id": "RxpEjs0c3n8F",
        "outputId": "34042110-c490-49d9-9a80-a8e5ed8bba63"
      },
      "execution_count": null,
      "outputs": [
        {
          "output_type": "execute_result",
          "data": {
            "text/plain": [
              "       count  mean       std       min       25%       50%       75%       max\n",
              "race                                                                          \n",
              "0.0   2532.0   1.0  0.112440  0.892790  0.892790  0.892790  1.117878  1.117878\n",
              "1.0   1690.0   1.0  0.173056  0.863569  0.863569  0.863569  1.219384  1.219384"
            ],
            "text/html": [
              "\n",
              "  <div id=\"df-38bc0ad7-019b-41e7-b16f-79833df75dcb\">\n",
              "    <div class=\"colab-df-container\">\n",
              "      <div>\n",
              "<style scoped>\n",
              "    .dataframe tbody tr th:only-of-type {\n",
              "        vertical-align: middle;\n",
              "    }\n",
              "\n",
              "    .dataframe tbody tr th {\n",
              "        vertical-align: top;\n",
              "    }\n",
              "\n",
              "    .dataframe thead th {\n",
              "        text-align: right;\n",
              "    }\n",
              "</style>\n",
              "<table border=\"1\" class=\"dataframe\">\n",
              "  <thead>\n",
              "    <tr style=\"text-align: right;\">\n",
              "      <th></th>\n",
              "      <th>count</th>\n",
              "      <th>mean</th>\n",
              "      <th>std</th>\n",
              "      <th>min</th>\n",
              "      <th>25%</th>\n",
              "      <th>50%</th>\n",
              "      <th>75%</th>\n",
              "      <th>max</th>\n",
              "    </tr>\n",
              "    <tr>\n",
              "      <th>race</th>\n",
              "      <th></th>\n",
              "      <th></th>\n",
              "      <th></th>\n",
              "      <th></th>\n",
              "      <th></th>\n",
              "      <th></th>\n",
              "      <th></th>\n",
              "      <th></th>\n",
              "    </tr>\n",
              "  </thead>\n",
              "  <tbody>\n",
              "    <tr>\n",
              "      <th>0.0</th>\n",
              "      <td>2532.0</td>\n",
              "      <td>1.0</td>\n",
              "      <td>0.112440</td>\n",
              "      <td>0.892790</td>\n",
              "      <td>0.892790</td>\n",
              "      <td>0.892790</td>\n",
              "      <td>1.117878</td>\n",
              "      <td>1.117878</td>\n",
              "    </tr>\n",
              "    <tr>\n",
              "      <th>1.0</th>\n",
              "      <td>1690.0</td>\n",
              "      <td>1.0</td>\n",
              "      <td>0.173056</td>\n",
              "      <td>0.863569</td>\n",
              "      <td>0.863569</td>\n",
              "      <td>0.863569</td>\n",
              "      <td>1.219384</td>\n",
              "      <td>1.219384</td>\n",
              "    </tr>\n",
              "  </tbody>\n",
              "</table>\n",
              "</div>\n",
              "      <button class=\"colab-df-convert\" onclick=\"convertToInteractive('df-38bc0ad7-019b-41e7-b16f-79833df75dcb')\"\n",
              "              title=\"Convert this dataframe to an interactive table.\"\n",
              "              style=\"display:none;\">\n",
              "        \n",
              "  <svg xmlns=\"http://www.w3.org/2000/svg\" height=\"24px\"viewBox=\"0 0 24 24\"\n",
              "       width=\"24px\">\n",
              "    <path d=\"M0 0h24v24H0V0z\" fill=\"none\"/>\n",
              "    <path d=\"M18.56 5.44l.94 2.06.94-2.06 2.06-.94-2.06-.94-.94-2.06-.94 2.06-2.06.94zm-11 1L8.5 8.5l.94-2.06 2.06-.94-2.06-.94L8.5 2.5l-.94 2.06-2.06.94zm10 10l.94 2.06.94-2.06 2.06-.94-2.06-.94-.94-2.06-.94 2.06-2.06.94z\"/><path d=\"M17.41 7.96l-1.37-1.37c-.4-.4-.92-.59-1.43-.59-.52 0-1.04.2-1.43.59L10.3 9.45l-7.72 7.72c-.78.78-.78 2.05 0 2.83L4 21.41c.39.39.9.59 1.41.59.51 0 1.02-.2 1.41-.59l7.78-7.78 2.81-2.81c.8-.78.8-2.07 0-2.86zM5.41 20L4 18.59l7.72-7.72 1.47 1.35L5.41 20z\"/>\n",
              "  </svg>\n",
              "      </button>\n",
              "      \n",
              "  <style>\n",
              "    .colab-df-container {\n",
              "      display:flex;\n",
              "      flex-wrap:wrap;\n",
              "      gap: 12px;\n",
              "    }\n",
              "\n",
              "    .colab-df-convert {\n",
              "      background-color: #E8F0FE;\n",
              "      border: none;\n",
              "      border-radius: 50%;\n",
              "      cursor: pointer;\n",
              "      display: none;\n",
              "      fill: #1967D2;\n",
              "      height: 32px;\n",
              "      padding: 0 0 0 0;\n",
              "      width: 32px;\n",
              "    }\n",
              "\n",
              "    .colab-df-convert:hover {\n",
              "      background-color: #E2EBFA;\n",
              "      box-shadow: 0px 1px 2px rgba(60, 64, 67, 0.3), 0px 1px 3px 1px rgba(60, 64, 67, 0.15);\n",
              "      fill: #174EA6;\n",
              "    }\n",
              "\n",
              "    [theme=dark] .colab-df-convert {\n",
              "      background-color: #3B4455;\n",
              "      fill: #D2E3FC;\n",
              "    }\n",
              "\n",
              "    [theme=dark] .colab-df-convert:hover {\n",
              "      background-color: #434B5C;\n",
              "      box-shadow: 0px 1px 3px 1px rgba(0, 0, 0, 0.15);\n",
              "      filter: drop-shadow(0px 1px 2px rgba(0, 0, 0, 0.3));\n",
              "      fill: #FFFFFF;\n",
              "    }\n",
              "  </style>\n",
              "\n",
              "      <script>\n",
              "        const buttonEl =\n",
              "          document.querySelector('#df-38bc0ad7-019b-41e7-b16f-79833df75dcb button.colab-df-convert');\n",
              "        buttonEl.style.display =\n",
              "          google.colab.kernel.accessAllowed ? 'block' : 'none';\n",
              "\n",
              "        async function convertToInteractive(key) {\n",
              "          const element = document.querySelector('#df-38bc0ad7-019b-41e7-b16f-79833df75dcb');\n",
              "          const dataTable =\n",
              "            await google.colab.kernel.invokeFunction('convertToInteractive',\n",
              "                                                     [key], {});\n",
              "          if (!dataTable) return;\n",
              "\n",
              "          const docLinkHtml = 'Like what you see? Visit the ' +\n",
              "            '<a target=\"_blank\" href=https://colab.research.google.com/notebooks/data_table.ipynb>data table notebook</a>'\n",
              "            + ' to learn more about interactive tables.';\n",
              "          element.innerHTML = '';\n",
              "          dataTable['output_type'] = 'display_data';\n",
              "          await google.colab.output.renderOutput(dataTable, element);\n",
              "          const docLink = document.createElement('div');\n",
              "          docLink.innerHTML = docLinkHtml;\n",
              "          element.appendChild(docLink);\n",
              "        }\n",
              "      </script>\n",
              "    </div>\n",
              "  </div>\n",
              "  "
            ]
          },
          "metadata": {},
          "execution_count": 33
        }
      ]
    },
    {
      "cell_type": "code",
      "source": [
        "# A logistic regression classifier after reweighting instances making use of all features\n",
        "train_data_new = train_data.convert_to_dataframe()[0]\n",
        "train_data_x = train_data_new.drop(labels = \"two_year_recid\", axis = 1)\n",
        "train_data_y = train_data_new[\"two_year_recid\"]\n",
        "Classifier_3 = LogisticRegression().fit(train_data_x, train_data_y, sample_weight = train_data_transformed.instance_weights)\n",
        "\n",
        "test_data_new = test_data.convert_to_dataframe()[0]\n",
        "test_data_x = test_data_new.drop(labels = \"two_year_recid\", axis = 1)\n",
        "test_data_y = test_data_new[\"two_year_recid\"]\n",
        "Pred_3 = Classifier_3.predict(test_data_x)\n",
        "\n",
        "precision_3 = precision_score(test_data_y, Pred_3)\n",
        "recall_3 = recall_score(test_data_y, Pred_3)\n",
        "F1_3 = f1_score(test_data_y, Pred_3)\n",
        "accuracy_3 = accuracy_score(test_data_y, Pred_3)\n",
        "print(\"The precision of the third classifier is: \", precision_3)\n",
        "print(\"The recall of the third classifier is: \", recall_3)\n",
        "print(\"The F1 score of the third classifier is: \", F1_3)\n",
        "print(\"The accuracy of the third classifier is: \", accuracy_3)\n",
        "\n",
        "temp = test_data_new.copy()\n",
        "temp[\"two_year_recid\"] = Pred_3\n",
        "labeled_data = BinaryLabelDataset(df = temp, label_names = [\"two_year_recid\"], protected_attribute_names = [\"race\"], favorable_label = 0, unfavorable_label = 1)\n",
        "metric_test_data = BinaryLabelDatasetMetric(labeled_data, unpriv_group, priv_group)\n",
        "parity_difference = metric_test_data.statistical_parity_difference()\n",
        "print(\"The mean difference (statistical parity difference) of the third classifier is:\", parity_difference)\n",
        "\n",
        "labeled_data = BinaryLabelDataset(df = test_data_new, label_names = [\"two_year_recid\"], protected_attribute_names = [\"race\"], favorable_label = 0, unfavorable_label = 1)\n",
        "labeled_data_1 = labeled_data.copy()\n",
        "labeled_data_2 = labeled_data.copy()\n",
        "labeled_data_2.labels = Pred_3.reshape(-1, 1)\n",
        "metric_test_data = ClassificationMetric(labeled_data_1, labeled_data_2, unpriv_group, priv_group,)\n",
        "true_positive_rate_difference = metric_test_data.true_positive_rate_difference()\n",
        "true_positive_rate_priviledged = metric_test_data.true_positive_rate(True)\n",
        "true_positive_rate_unpriviledged = metric_test_data.true_positive_rate(False)\n",
        "print(\"The true positive rate difference of the third classifier is:\", true_positive_rate_difference)\n",
        "print(\"The true positive rate priviledged of the third classifier is:\", true_positive_rate_priviledged)\n",
        "print(\"The true positive rate unpriviledged of the third classifier is:\", true_positive_rate_unpriviledged)"
      ],
      "metadata": {
        "colab": {
          "base_uri": "https://localhost:8080/"
        },
        "id": "kzivR4gJ_pfC",
        "outputId": "ba939adb-449d-4d5a-aa96-45c3938dd653"
      },
      "execution_count": null,
      "outputs": [
        {
          "output_type": "stream",
          "name": "stdout",
          "text": [
            "The precision of the third classifier is:  0.6450939457202505\n",
            "The recall of the third classifier is:  0.6070726915520629\n",
            "The F1 score of the third classifier is:  0.6255060728744939\n",
            "The accuracy of the third classifier is:  0.6496212121212122\n",
            "The mean difference (statistical parity difference) of the third classifier is: -0.045078494797766266\n",
            "The true positive rate difference of the third classifier is: -0.009495734391131938\n",
            "The true positive rate priviledged of the third classifier is: 0.694560669456067\n",
            "The true positive rate unpriviledged of the third classifier is: 0.685064935064935\n"
          ]
        }
      ]
    },
    {
      "cell_type": "code",
      "source": [
        "# A logistic regression classifier after reweighting instances without the race feature\n",
        "ReWeight = Reweighing(unpriv_group, priv_group).fit(train_data)\n",
        "train_data_transformed = ReWeight.transform(train_data)\n",
        "\n",
        "train_data_new = train_data.convert_to_dataframe()[0]\n",
        "train_data_x = train_data_new.drop(labels = [\"two_year_recid\", \"race\"], axis = 1)\n",
        "train_data_y = train_data_new[\"two_year_recid\"]\n",
        "Classifier_4 = LogisticRegression().fit(train_data_x, train_data_y, sample_weight = train_data_transformed.instance_weights)\n",
        "\n",
        "test_data_new = test_data.convert_to_dataframe()[0]\n",
        "test_data_x = test_data_new.drop(labels = [\"two_year_recid\", \"race\"], axis = 1)\n",
        "test_data_y = test_data_new[\"two_year_recid\"]\n",
        "Pred_4 = Classifier_4.predict(test_data_x)\n",
        "\n",
        "precision_4 = precision_score(test_data_y, Pred_4)\n",
        "recall_4 = recall_score(test_data_y, Pred_4)\n",
        "F1_4 = f1_score(test_data_y, Pred_4)\n",
        "accuracy_4 = accuracy_score(test_data_y, Pred_4)\n",
        "print(\"The precision of the fourth classifier is: \", precision_4)\n",
        "print(\"The recall of the fourth classifier is: \", recall_4)\n",
        "print(\"The F1 score of the fourth classifier is: \", F1_4)\n",
        "print(\"The accuracy of the fourth classifier is: \", accuracy_4)\n",
        "\n",
        "temp = test_data_new.copy()\n",
        "temp[\"two_year_recid\"] = Pred_4\n",
        "labeled_data = BinaryLabelDataset(df = temp, label_names = [\"two_year_recid\"], protected_attribute_names = [\"race\"], favorable_label = 0, unfavorable_label = 1)\n",
        "metric_test_data = BinaryLabelDatasetMetric(labeled_data, unpriv_group, priv_group)\n",
        "parity_difference = metric_test_data.statistical_parity_difference()\n",
        "print(\"The mean difference (statistical parity difference) of the fourth classifier is:\", parity_difference)\n",
        "\n",
        "labeled_data = BinaryLabelDataset(df = test_data_new, label_names = [\"two_year_recid\"], protected_attribute_names = [\"race\"], favorable_label = 0, unfavorable_label = 1)\n",
        "labeled_data_1 = labeled_data.copy()\n",
        "labeled_data_2 = labeled_data.copy()\n",
        "labeled_data_2.labels = Pred_4.reshape(-1, 1)\n",
        "metric_test_data = ClassificationMetric(labeled_data_1, labeled_data_2, unpriv_group, priv_group,)\n",
        "true_positive_rate_difference = metric_test_data.true_positive_rate_difference()\n",
        "true_positive_rate_priviledged = metric_test_data.true_positive_rate(True)\n",
        "true_positive_rate_unpriviledged = metric_test_data.true_positive_rate(False)\n",
        "print(\"The true positive rate difference of the fourth classifier is:\", true_positive_rate_difference)\n",
        "print(\"The true positive rate priviledged of the fourth classifier is:\", true_positive_rate_priviledged)\n",
        "print(\"The true positive rate unpriviledged of the fourth classifier is:\", true_positive_rate_unpriviledged)"
      ],
      "metadata": {
        "colab": {
          "base_uri": "https://localhost:8080/"
        },
        "id": "rgiWMp12Fazw",
        "outputId": "57121274-cbe4-46d6-d963-7b07cfeab15d"
      },
      "execution_count": null,
      "outputs": [
        {
          "output_type": "stream",
          "name": "stdout",
          "text": [
            "The precision of the fourth classifier is:  0.6842105263157895\n",
            "The recall of the fourth classifier is:  0.587426326129666\n",
            "The F1 score of the fourth classifier is:  0.6321353065539113\n",
            "The accuracy of the fourth classifier is:  0.6704545454545454\n",
            "The mean difference (statistical parity difference) of the fourth classifier is: -0.22232724178054591\n",
            "The true positive rate difference of the fourth classifier is: -0.1954029234363962\n",
            "The true positive rate priviledged of the fourth classifier is: 0.8577405857740585\n",
            "The true positive rate unpriviledged of the fourth classifier is: 0.6623376623376623\n"
          ]
        }
      ]
    },
    {
      "cell_type": "code",
      "source": [
        "from aif360.algorithms.postprocessing import EqOddsPostprocessing\n",
        "import numpy as np\n",
        "\n",
        "train_data_new = train_data.convert_to_dataframe()[0]\n",
        "train_data_x = train_data_new.drop(labels = [\"two_year_recid\", \"race\"], axis = 1)\n",
        "train_data_y = train_data_new[\"two_year_recid\"]\n",
        "Classifier_5 = LogisticRegression().fit(train_data_x, train_data_y)\n",
        "\n",
        "test_data_new = test_data.convert_to_dataframe()[0]\n",
        "test_data_x = test_data_new.drop(labels = [\"two_year_recid\", \"race\"], axis = 1)\n",
        "test_data_y = test_data_new[\"two_year_recid\"]\n",
        "Pred_5 = Classifier_5.predict(test_data_x)\n",
        "test_data_true = test_data.copy()\n",
        "test_data_pred = test_data.copy()\n",
        "test_data_pred.labels = Pred_5.reshape(-1, 1)\n",
        "\n",
        "\n",
        "Post_tools = EqOddsPostprocessing(unpriv_group, priv_group).fit(test_data_true, test_data_pred)\n",
        "test_data_pred_new = Post_tools.predict(test_data_pred)\n",
        "label_1 = test_data_true.labels\n",
        "label_2 = test_data_pred_new.labels\n",
        "\n",
        "precision_5 = precision_score(label_1, label_2)\n",
        "recall_5 = recall_score(label_1, label_2)\n",
        "F1_5 = f1_score(label_1, label_2)\n",
        "accuracy_5 = accuracy_score(label_1, label_2)\n",
        "\n",
        "print(\"The precision of the fifth classifier is: \", precision_5)\n",
        "print(\"The recall of the fifth classifier is: \", recall_5)\n",
        "print(\"The F1 score of the fifth classifier is: \", F1_5)\n",
        "print(\"The accuracy of the fifth classifier is: \", accuracy_5)\n",
        "\n",
        "metric_test_data = BinaryLabelDatasetMetric(test_data_pred_new, unpriv_group, priv_group)\n",
        "parity_difference = metric_test_data.statistical_parity_difference()\n",
        "print(\"The mean difference (statistical parity difference) of the fourth classifier is:\", parity_difference)\n",
        "\n",
        "labeled_data_1 = test_data_pred.copy()\n",
        "labeled_data_2 = test_data_pred.copy()\n",
        "labeled_data_2.labels = test_data_pred_new.labels.reshape(-1, 1)\n",
        "metric_test_data = ClassificationMetric(labeled_data_1, labeled_data_2, unpriv_group, priv_group,)\n",
        "true_positive_rate_difference = metric_test_data.true_positive_rate_difference()\n",
        "true_positive_rate_priviledged = metric_test_data.true_positive_rate(True)\n",
        "true_positive_rate_unpriviledged = metric_test_data.true_positive_rate(False)\n",
        "print(\"The true positive rate difference of the fourth classifier is:\", true_positive_rate_difference)\n",
        "print(\"The true positive rate priviledged of the fourth classifier is:\", true_positive_rate_priviledged)\n",
        "print(\"The true positive rate unpriviledged of the fourth classifier is:\", true_positive_rate_unpriviledged)"
      ],
      "metadata": {
        "colab": {
          "base_uri": "https://localhost:8080/"
        },
        "id": "ggwrzGedNNeC",
        "outputId": "6913320a-4be0-4c95-8f38-774605a5f6f7"
      },
      "execution_count": null,
      "outputs": [
        {
          "output_type": "stream",
          "name": "stdout",
          "text": [
            "The precision of the fifth classifier is:  0.6437054631828979\n",
            "The recall of the fifth classifier is:  0.5324165029469549\n",
            "The F1 score of the fifth classifier is:  0.5827956989247313\n",
            "The accuracy of the fifth classifier is:  0.6325757575757576\n",
            "The mean difference (statistical parity difference) of the fourth classifier is: -0.026453631772976993\n",
            "The true positive rate difference of the fourth classifier is: 0.16393442622950816\n",
            "The true positive rate priviledged of the fourth classifier is: 0.8360655737704918\n",
            "The true positive rate unpriviledged of the fourth classifier is: 1.0\n"
          ]
        },
        {
          "output_type": "stream",
          "name": "stderr",
          "text": [
            "Creating an ndarray from ragged nested sequences (which is a list-or-tuple of lists-or-tuples-or ndarrays with different lengths or shapes) is deprecated. If you meant to do this, you must specify 'dtype=object' when creating the ndarray.\n"
          ]
        }
      ]
    },
    {
      "cell_type": "markdown",
      "metadata": {
        "id": "IOxdF1PJxu6q"
      },
      "source": [
        "# Discussion\n",
        "\n",
        "**Report**\n",
        "* Shortly discuss your results. For example, how do the different classifiers compare against each other? \n",
        "* Also include a short ethical discussion (1 or 2 paragraphs) reflecting on these two aspects: 1) The use of a ML system to try to predict recidivism; 2) The public release of a dataset like this.\n"
      ]
    }
  ],
  "metadata": {
    "colab": {
      "name": "programming_assignment_fairness.ipynb",
      "provenance": []
    },
    "kernelspec": {
      "display_name": "Python 3",
      "name": "python3"
    },
    "language_info": {
      "name": "python"
    }
  },
  "nbformat": 4,
  "nbformat_minor": 0
}